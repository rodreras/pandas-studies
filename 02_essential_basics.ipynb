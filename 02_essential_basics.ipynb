{
 "cells": [
  {
   "cell_type": "markdown",
   "metadata": {},
   "source": [
    "# Pandas User Guide\n",
    "\n",
    "Studying Pandas and its API. \n",
    "\n",
    "## 02. Essential Basic Functionality"
   ]
  },
  {
   "cell_type": "code",
   "execution_count": 4,
   "metadata": {},
   "outputs": [],
   "source": [
    "import pandas as pd\n",
    "import numpy as np\n"
   ]
  },
  {
   "cell_type": "code",
   "execution_count": null,
   "metadata": {},
   "outputs": [],
   "source": [
    "index = pd.date_range(\"1/1/2025\", periods = 8)\n",
    "\n",
    "s = pd.Series(np.random.rand(5), index = ['a','b','c','d','e'])"
   ]
  },
  {
   "cell_type": "code",
   "execution_count": 13,
   "metadata": {},
   "outputs": [
    {
     "data": {
      "application/vnd.microsoft.datawrangler.viewer.v0+json": {
       "columns": [
        {
         "name": "index",
         "rawType": "datetime64[ns]",
         "type": "datetime"
        },
        {
         "name": "A",
         "rawType": "float64",
         "type": "float"
        },
        {
         "name": "B",
         "rawType": "float64",
         "type": "float"
        },
        {
         "name": "C",
         "rawType": "float64",
         "type": "float"
        }
       ],
       "conversionMethod": "pd.DataFrame",
       "ref": "9b33348d-a07c-4813-bd2e-fa53c742ce2f",
       "rows": [
        [
         "2025-01-01 00:00:00",
         "0.6014487622009511",
         "0.10414645586572471",
         "1.2502896781734232"
        ],
        [
         "2025-01-02 00:00:00",
         "-1.16462264678742",
         "0.9756593906375326",
         "1.2732683261225748"
        ],
        [
         "2025-01-03 00:00:00",
         "-0.22899725114867034",
         "-1.3126116398035201",
         "3.5372092880312134"
        ],
        [
         "2025-01-04 00:00:00",
         "-0.47732700777874965",
         "-0.35776067255130245",
         "-1.4483761612688901"
        ],
        [
         "2025-01-05 00:00:00",
         "-0.44874417469944794",
         "1.0316270871991833",
         "-0.028408043803949897"
        ],
        [
         "2025-01-06 00:00:00",
         "-0.14433877416720717",
         "-0.7702070396275464",
         "0.21972345978436353"
        ],
        [
         "2025-01-07 00:00:00",
         "0.3090929099457494",
         "-0.09477034724197873",
         "0.09514546231841846"
        ],
        [
         "2025-01-08 00:00:00",
         "-0.0781554711153353",
         "1.266223086649329",
         "1.031426250342432"
        ]
       ],
       "shape": {
        "columns": 3,
        "rows": 8
       }
      },
      "text/html": [
       "<div>\n",
       "<style scoped>\n",
       "    .dataframe tbody tr th:only-of-type {\n",
       "        vertical-align: middle;\n",
       "    }\n",
       "\n",
       "    .dataframe tbody tr th {\n",
       "        vertical-align: top;\n",
       "    }\n",
       "\n",
       "    .dataframe thead th {\n",
       "        text-align: right;\n",
       "    }\n",
       "</style>\n",
       "<table border=\"1\" class=\"dataframe\">\n",
       "  <thead>\n",
       "    <tr style=\"text-align: right;\">\n",
       "      <th></th>\n",
       "      <th>A</th>\n",
       "      <th>B</th>\n",
       "      <th>C</th>\n",
       "    </tr>\n",
       "  </thead>\n",
       "  <tbody>\n",
       "    <tr>\n",
       "      <th>2025-01-01</th>\n",
       "      <td>0.601449</td>\n",
       "      <td>0.104146</td>\n",
       "      <td>1.250290</td>\n",
       "    </tr>\n",
       "    <tr>\n",
       "      <th>2025-01-02</th>\n",
       "      <td>-1.164623</td>\n",
       "      <td>0.975659</td>\n",
       "      <td>1.273268</td>\n",
       "    </tr>\n",
       "    <tr>\n",
       "      <th>2025-01-03</th>\n",
       "      <td>-0.228997</td>\n",
       "      <td>-1.312612</td>\n",
       "      <td>3.537209</td>\n",
       "    </tr>\n",
       "    <tr>\n",
       "      <th>2025-01-04</th>\n",
       "      <td>-0.477327</td>\n",
       "      <td>-0.357761</td>\n",
       "      <td>-1.448376</td>\n",
       "    </tr>\n",
       "    <tr>\n",
       "      <th>2025-01-05</th>\n",
       "      <td>-0.448744</td>\n",
       "      <td>1.031627</td>\n",
       "      <td>-0.028408</td>\n",
       "    </tr>\n",
       "    <tr>\n",
       "      <th>2025-01-06</th>\n",
       "      <td>-0.144339</td>\n",
       "      <td>-0.770207</td>\n",
       "      <td>0.219723</td>\n",
       "    </tr>\n",
       "    <tr>\n",
       "      <th>2025-01-07</th>\n",
       "      <td>0.309093</td>\n",
       "      <td>-0.094770</td>\n",
       "      <td>0.095145</td>\n",
       "    </tr>\n",
       "    <tr>\n",
       "      <th>2025-01-08</th>\n",
       "      <td>-0.078155</td>\n",
       "      <td>1.266223</td>\n",
       "      <td>1.031426</td>\n",
       "    </tr>\n",
       "  </tbody>\n",
       "</table>\n",
       "</div>"
      ],
      "text/plain": [
       "                   A         B         C\n",
       "2025-01-01  0.601449  0.104146  1.250290\n",
       "2025-01-02 -1.164623  0.975659  1.273268\n",
       "2025-01-03 -0.228997 -1.312612  3.537209\n",
       "2025-01-04 -0.477327 -0.357761 -1.448376\n",
       "2025-01-05 -0.448744  1.031627 -0.028408\n",
       "2025-01-06 -0.144339 -0.770207  0.219723\n",
       "2025-01-07  0.309093 -0.094770  0.095145\n",
       "2025-01-08 -0.078155  1.266223  1.031426"
      ]
     },
     "execution_count": 13,
     "metadata": {},
     "output_type": "execute_result"
    }
   ],
   "source": [
    "df = pd.DataFrame(np.random.randn(8,3), index = index, columns = ['A','B', 'C'])\n",
    "df"
   ]
  },
  {
   "cell_type": "code",
   "execution_count": 14,
   "metadata": {},
   "outputs": [
    {
     "data": {
      "application/vnd.microsoft.datawrangler.viewer.v0+json": {
       "columns": [
        {
         "name": "index",
         "rawType": "datetime64[ns]",
         "type": "datetime"
        },
        {
         "name": "A",
         "rawType": "float64",
         "type": "float"
        },
        {
         "name": "B",
         "rawType": "float64",
         "type": "float"
        },
        {
         "name": "C",
         "rawType": "float64",
         "type": "float"
        }
       ],
       "conversionMethod": "pd.DataFrame",
       "ref": "dfbbb2fc-c6d6-459a-bc19-16b44729359b",
       "rows": [
        [
         "2025-01-01 00:00:00",
         "0.6014487622009511",
         "0.10414645586572471",
         "1.2502896781734232"
        ],
        [
         "2025-01-02 00:00:00",
         "-1.16462264678742",
         "0.9756593906375326",
         "1.2732683261225748"
        ],
        [
         "2025-01-03 00:00:00",
         "-0.22899725114867034",
         "-1.3126116398035201",
         "3.5372092880312134"
        ],
        [
         "2025-01-04 00:00:00",
         "-0.47732700777874965",
         "-0.35776067255130245",
         "-1.4483761612688901"
        ],
        [
         "2025-01-05 00:00:00",
         "-0.44874417469944794",
         "1.0316270871991833",
         "-0.028408043803949897"
        ]
       ],
       "shape": {
        "columns": 3,
        "rows": 5
       }
      },
      "text/html": [
       "<div>\n",
       "<style scoped>\n",
       "    .dataframe tbody tr th:only-of-type {\n",
       "        vertical-align: middle;\n",
       "    }\n",
       "\n",
       "    .dataframe tbody tr th {\n",
       "        vertical-align: top;\n",
       "    }\n",
       "\n",
       "    .dataframe thead th {\n",
       "        text-align: right;\n",
       "    }\n",
       "</style>\n",
       "<table border=\"1\" class=\"dataframe\">\n",
       "  <thead>\n",
       "    <tr style=\"text-align: right;\">\n",
       "      <th></th>\n",
       "      <th>A</th>\n",
       "      <th>B</th>\n",
       "      <th>C</th>\n",
       "    </tr>\n",
       "  </thead>\n",
       "  <tbody>\n",
       "    <tr>\n",
       "      <th>2025-01-01</th>\n",
       "      <td>0.601449</td>\n",
       "      <td>0.104146</td>\n",
       "      <td>1.250290</td>\n",
       "    </tr>\n",
       "    <tr>\n",
       "      <th>2025-01-02</th>\n",
       "      <td>-1.164623</td>\n",
       "      <td>0.975659</td>\n",
       "      <td>1.273268</td>\n",
       "    </tr>\n",
       "    <tr>\n",
       "      <th>2025-01-03</th>\n",
       "      <td>-0.228997</td>\n",
       "      <td>-1.312612</td>\n",
       "      <td>3.537209</td>\n",
       "    </tr>\n",
       "    <tr>\n",
       "      <th>2025-01-04</th>\n",
       "      <td>-0.477327</td>\n",
       "      <td>-0.357761</td>\n",
       "      <td>-1.448376</td>\n",
       "    </tr>\n",
       "    <tr>\n",
       "      <th>2025-01-05</th>\n",
       "      <td>-0.448744</td>\n",
       "      <td>1.031627</td>\n",
       "      <td>-0.028408</td>\n",
       "    </tr>\n",
       "  </tbody>\n",
       "</table>\n",
       "</div>"
      ],
      "text/plain": [
       "                   A         B         C\n",
       "2025-01-01  0.601449  0.104146  1.250290\n",
       "2025-01-02 -1.164623  0.975659  1.273268\n",
       "2025-01-03 -0.228997 -1.312612  3.537209\n",
       "2025-01-04 -0.477327 -0.357761 -1.448376\n",
       "2025-01-05 -0.448744  1.031627 -0.028408"
      ]
     },
     "execution_count": 14,
     "metadata": {},
     "output_type": "execute_result"
    }
   ],
   "source": [
    "# Head and Tail\n",
    "\n",
    "df.head() #See first 5 rows"
   ]
  },
  {
   "cell_type": "code",
   "execution_count": 15,
   "metadata": {},
   "outputs": [
    {
     "data": {
      "application/vnd.microsoft.datawrangler.viewer.v0+json": {
       "columns": [
        {
         "name": "index",
         "rawType": "datetime64[ns]",
         "type": "datetime"
        },
        {
         "name": "A",
         "rawType": "float64",
         "type": "float"
        },
        {
         "name": "B",
         "rawType": "float64",
         "type": "float"
        },
        {
         "name": "C",
         "rawType": "float64",
         "type": "float"
        }
       ],
       "conversionMethod": "pd.DataFrame",
       "ref": "ff7e6c5e-479a-47b4-89ae-11780ca456dd",
       "rows": [
        [
         "2025-01-04 00:00:00",
         "-0.47732700777874965",
         "-0.35776067255130245",
         "-1.4483761612688901"
        ],
        [
         "2025-01-05 00:00:00",
         "-0.44874417469944794",
         "1.0316270871991833",
         "-0.028408043803949897"
        ],
        [
         "2025-01-06 00:00:00",
         "-0.14433877416720717",
         "-0.7702070396275464",
         "0.21972345978436353"
        ],
        [
         "2025-01-07 00:00:00",
         "0.3090929099457494",
         "-0.09477034724197873",
         "0.09514546231841846"
        ],
        [
         "2025-01-08 00:00:00",
         "-0.0781554711153353",
         "1.266223086649329",
         "1.031426250342432"
        ]
       ],
       "shape": {
        "columns": 3,
        "rows": 5
       }
      },
      "text/html": [
       "<div>\n",
       "<style scoped>\n",
       "    .dataframe tbody tr th:only-of-type {\n",
       "        vertical-align: middle;\n",
       "    }\n",
       "\n",
       "    .dataframe tbody tr th {\n",
       "        vertical-align: top;\n",
       "    }\n",
       "\n",
       "    .dataframe thead th {\n",
       "        text-align: right;\n",
       "    }\n",
       "</style>\n",
       "<table border=\"1\" class=\"dataframe\">\n",
       "  <thead>\n",
       "    <tr style=\"text-align: right;\">\n",
       "      <th></th>\n",
       "      <th>A</th>\n",
       "      <th>B</th>\n",
       "      <th>C</th>\n",
       "    </tr>\n",
       "  </thead>\n",
       "  <tbody>\n",
       "    <tr>\n",
       "      <th>2025-01-04</th>\n",
       "      <td>-0.477327</td>\n",
       "      <td>-0.357761</td>\n",
       "      <td>-1.448376</td>\n",
       "    </tr>\n",
       "    <tr>\n",
       "      <th>2025-01-05</th>\n",
       "      <td>-0.448744</td>\n",
       "      <td>1.031627</td>\n",
       "      <td>-0.028408</td>\n",
       "    </tr>\n",
       "    <tr>\n",
       "      <th>2025-01-06</th>\n",
       "      <td>-0.144339</td>\n",
       "      <td>-0.770207</td>\n",
       "      <td>0.219723</td>\n",
       "    </tr>\n",
       "    <tr>\n",
       "      <th>2025-01-07</th>\n",
       "      <td>0.309093</td>\n",
       "      <td>-0.094770</td>\n",
       "      <td>0.095145</td>\n",
       "    </tr>\n",
       "    <tr>\n",
       "      <th>2025-01-08</th>\n",
       "      <td>-0.078155</td>\n",
       "      <td>1.266223</td>\n",
       "      <td>1.031426</td>\n",
       "    </tr>\n",
       "  </tbody>\n",
       "</table>\n",
       "</div>"
      ],
      "text/plain": [
       "                   A         B         C\n",
       "2025-01-04 -0.477327 -0.357761 -1.448376\n",
       "2025-01-05 -0.448744  1.031627 -0.028408\n",
       "2025-01-06 -0.144339 -0.770207  0.219723\n",
       "2025-01-07  0.309093 -0.094770  0.095145\n",
       "2025-01-08 -0.078155  1.266223  1.031426"
      ]
     },
     "execution_count": 15,
     "metadata": {},
     "output_type": "execute_result"
    }
   ],
   "source": [
    "df.tail() #See last 5 rows"
   ]
  },
  {
   "cell_type": "code",
   "execution_count": 25,
   "metadata": {},
   "outputs": [
    {
     "data": {
      "application/vnd.microsoft.datawrangler.viewer.v0+json": {
       "columns": [
        {
         "name": "index",
         "rawType": "object",
         "type": "string"
        },
        {
         "name": "angles",
         "rawType": "int64",
         "type": "integer"
        },
        {
         "name": "degrees",
         "rawType": "int64",
         "type": "integer"
        }
       ],
       "conversionMethod": "pd.DataFrame",
       "ref": "d090caa8-1269-4e43-8cda-4667f9b12f5c",
       "rows": [
        [
         "circle",
         "0",
         "360"
        ],
        [
         "triangle",
         "3",
         "180"
        ],
        [
         "rectangle",
         "4",
         "360"
        ]
       ],
       "shape": {
        "columns": 2,
        "rows": 3
       }
      },
      "text/html": [
       "<div>\n",
       "<style scoped>\n",
       "    .dataframe tbody tr th:only-of-type {\n",
       "        vertical-align: middle;\n",
       "    }\n",
       "\n",
       "    .dataframe tbody tr th {\n",
       "        vertical-align: top;\n",
       "    }\n",
       "\n",
       "    .dataframe thead th {\n",
       "        text-align: right;\n",
       "    }\n",
       "</style>\n",
       "<table border=\"1\" class=\"dataframe\">\n",
       "  <thead>\n",
       "    <tr style=\"text-align: right;\">\n",
       "      <th></th>\n",
       "      <th>angles</th>\n",
       "      <th>degrees</th>\n",
       "    </tr>\n",
       "  </thead>\n",
       "  <tbody>\n",
       "    <tr>\n",
       "      <th>circle</th>\n",
       "      <td>0</td>\n",
       "      <td>360</td>\n",
       "    </tr>\n",
       "    <tr>\n",
       "      <th>triangle</th>\n",
       "      <td>3</td>\n",
       "      <td>180</td>\n",
       "    </tr>\n",
       "    <tr>\n",
       "      <th>rectangle</th>\n",
       "      <td>4</td>\n",
       "      <td>360</td>\n",
       "    </tr>\n",
       "  </tbody>\n",
       "</table>\n",
       "</div>"
      ],
      "text/plain": [
       "           angles  degrees\n",
       "circle          0      360\n",
       "triangle        3      180\n",
       "rectangle       4      360"
      ]
     },
     "execution_count": 25,
     "metadata": {},
     "output_type": "execute_result"
    }
   ],
   "source": [
    "df = pd.DataFrame({'angles': [0, 3, 4],\n",
    "\n",
    "                   'degrees': [360, 180, 360]},\n",
    "\n",
    "                  index=['circle', 'triangle', 'rectangle'])\n",
    "\n",
    "df"
   ]
  },
  {
   "cell_type": "code",
   "execution_count": 26,
   "metadata": {},
   "outputs": [
    {
     "data": {
      "text/plain": [
       "angles       3\n",
       "degrees    180\n",
       "Name: triangle, dtype: int64"
      ]
     },
     "execution_count": 26,
     "metadata": {},
     "output_type": "execute_result"
    }
   ],
   "source": [
    "row = df.iloc[1]\n",
    "row"
   ]
  },
  {
   "cell_type": "code",
   "execution_count": 35,
   "metadata": {},
   "outputs": [
    {
     "data": {
      "text/plain": [
       "circle       360\n",
       "triangle     180\n",
       "rectangle    360\n",
       "Name: degrees, dtype: int64"
      ]
     },
     "execution_count": 35,
     "metadata": {},
     "output_type": "execute_result"
    }
   ],
   "source": [
    "column = df['degrees']\n",
    "column"
   ]
  },
  {
   "cell_type": "code",
   "execution_count": 32,
   "metadata": {},
   "outputs": [
    {
     "data": {
      "application/vnd.microsoft.datawrangler.viewer.v0+json": {
       "columns": [
        {
         "name": "index",
         "rawType": "object",
         "type": "string"
        },
        {
         "name": "angles",
         "rawType": "int64",
         "type": "integer"
        },
        {
         "name": "degrees",
         "rawType": "int64",
         "type": "integer"
        }
       ],
       "conversionMethod": "pd.DataFrame",
       "ref": "ca697148-d4c9-4387-b4ad-2e6967f2e7f0",
       "rows": [
        [
         "circle",
         "-3",
         "180"
        ],
        [
         "triangle",
         "0",
         "0"
        ],
        [
         "rectangle",
         "1",
         "180"
        ]
       ],
       "shape": {
        "columns": 2,
        "rows": 3
       }
      },
      "text/html": [
       "<div>\n",
       "<style scoped>\n",
       "    .dataframe tbody tr th:only-of-type {\n",
       "        vertical-align: middle;\n",
       "    }\n",
       "\n",
       "    .dataframe tbody tr th {\n",
       "        vertical-align: top;\n",
       "    }\n",
       "\n",
       "    .dataframe thead th {\n",
       "        text-align: right;\n",
       "    }\n",
       "</style>\n",
       "<table border=\"1\" class=\"dataframe\">\n",
       "  <thead>\n",
       "    <tr style=\"text-align: right;\">\n",
       "      <th></th>\n",
       "      <th>angles</th>\n",
       "      <th>degrees</th>\n",
       "    </tr>\n",
       "  </thead>\n",
       "  <tbody>\n",
       "    <tr>\n",
       "      <th>circle</th>\n",
       "      <td>-3</td>\n",
       "      <td>180</td>\n",
       "    </tr>\n",
       "    <tr>\n",
       "      <th>triangle</th>\n",
       "      <td>0</td>\n",
       "      <td>0</td>\n",
       "    </tr>\n",
       "    <tr>\n",
       "      <th>rectangle</th>\n",
       "      <td>1</td>\n",
       "      <td>180</td>\n",
       "    </tr>\n",
       "  </tbody>\n",
       "</table>\n",
       "</div>"
      ],
      "text/plain": [
       "           angles  degrees\n",
       "circle         -3      180\n",
       "triangle        0        0\n",
       "rectangle       1      180"
      ]
     },
     "execution_count": 32,
     "metadata": {},
     "output_type": "execute_result"
    }
   ],
   "source": [
    "df.sub(row, axis = 'columns')\n"
   ]
  },
  {
   "cell_type": "code",
   "execution_count": 33,
   "metadata": {},
   "outputs": [
    {
     "data": {
      "application/vnd.microsoft.datawrangler.viewer.v0+json": {
       "columns": [
        {
         "name": "index",
         "rawType": "object",
         "type": "string"
        },
        {
         "name": "angles",
         "rawType": "int64",
         "type": "integer"
        },
        {
         "name": "degrees",
         "rawType": "int64",
         "type": "integer"
        }
       ],
       "conversionMethod": "pd.DataFrame",
       "ref": "117503ad-45cf-4889-8c7d-d89653682fb6",
       "rows": [
        [
         "circle",
         "-3",
         "180"
        ],
        [
         "triangle",
         "0",
         "0"
        ],
        [
         "rectangle",
         "1",
         "180"
        ]
       ],
       "shape": {
        "columns": 2,
        "rows": 3
       }
      },
      "text/html": [
       "<div>\n",
       "<style scoped>\n",
       "    .dataframe tbody tr th:only-of-type {\n",
       "        vertical-align: middle;\n",
       "    }\n",
       "\n",
       "    .dataframe tbody tr th {\n",
       "        vertical-align: top;\n",
       "    }\n",
       "\n",
       "    .dataframe thead th {\n",
       "        text-align: right;\n",
       "    }\n",
       "</style>\n",
       "<table border=\"1\" class=\"dataframe\">\n",
       "  <thead>\n",
       "    <tr style=\"text-align: right;\">\n",
       "      <th></th>\n",
       "      <th>angles</th>\n",
       "      <th>degrees</th>\n",
       "    </tr>\n",
       "  </thead>\n",
       "  <tbody>\n",
       "    <tr>\n",
       "      <th>circle</th>\n",
       "      <td>-3</td>\n",
       "      <td>180</td>\n",
       "    </tr>\n",
       "    <tr>\n",
       "      <th>triangle</th>\n",
       "      <td>0</td>\n",
       "      <td>0</td>\n",
       "    </tr>\n",
       "    <tr>\n",
       "      <th>rectangle</th>\n",
       "      <td>1</td>\n",
       "      <td>180</td>\n",
       "    </tr>\n",
       "  </tbody>\n",
       "</table>\n",
       "</div>"
      ],
      "text/plain": [
       "           angles  degrees\n",
       "circle         -3      180\n",
       "triangle        0        0\n",
       "rectangle       1      180"
      ]
     },
     "execution_count": 33,
     "metadata": {},
     "output_type": "execute_result"
    }
   ],
   "source": [
    "df.sub(row, axis = 1)"
   ]
  },
  {
   "cell_type": "code",
   "execution_count": 34,
   "metadata": {},
   "outputs": [
    {
     "data": {
      "application/vnd.microsoft.datawrangler.viewer.v0+json": {
       "columns": [
        {
         "name": "index",
         "rawType": "object",
         "type": "string"
        },
        {
         "name": "angles",
         "rawType": "int64",
         "type": "integer"
        },
        {
         "name": "degrees",
         "rawType": "int64",
         "type": "integer"
        }
       ],
       "conversionMethod": "pd.DataFrame",
       "ref": "5abc5dae-2fec-4b8a-9ecb-34f0bf9c34cf",
       "rows": [
        [
         "circle",
         "-360",
         "0"
        ],
        [
         "triangle",
         "-177",
         "0"
        ],
        [
         "rectangle",
         "-356",
         "0"
        ]
       ],
       "shape": {
        "columns": 2,
        "rows": 3
       }
      },
      "text/html": [
       "<div>\n",
       "<style scoped>\n",
       "    .dataframe tbody tr th:only-of-type {\n",
       "        vertical-align: middle;\n",
       "    }\n",
       "\n",
       "    .dataframe tbody tr th {\n",
       "        vertical-align: top;\n",
       "    }\n",
       "\n",
       "    .dataframe thead th {\n",
       "        text-align: right;\n",
       "    }\n",
       "</style>\n",
       "<table border=\"1\" class=\"dataframe\">\n",
       "  <thead>\n",
       "    <tr style=\"text-align: right;\">\n",
       "      <th></th>\n",
       "      <th>angles</th>\n",
       "      <th>degrees</th>\n",
       "    </tr>\n",
       "  </thead>\n",
       "  <tbody>\n",
       "    <tr>\n",
       "      <th>circle</th>\n",
       "      <td>-360</td>\n",
       "      <td>0</td>\n",
       "    </tr>\n",
       "    <tr>\n",
       "      <th>triangle</th>\n",
       "      <td>-177</td>\n",
       "      <td>0</td>\n",
       "    </tr>\n",
       "    <tr>\n",
       "      <th>rectangle</th>\n",
       "      <td>-356</td>\n",
       "      <td>0</td>\n",
       "    </tr>\n",
       "  </tbody>\n",
       "</table>\n",
       "</div>"
      ],
      "text/plain": [
       "           angles  degrees\n",
       "circle       -360        0\n",
       "triangle     -177        0\n",
       "rectangle    -356        0"
      ]
     },
     "execution_count": 34,
     "metadata": {},
     "output_type": "execute_result"
    }
   ],
   "source": [
    "df.sub(column, axis = 'index')"
   ]
  },
  {
   "cell_type": "code",
   "execution_count": 55,
   "metadata": {},
   "outputs": [
    {
     "data": {
      "application/vnd.microsoft.datawrangler.viewer.v0+json": {
       "columns": [
        {
         "name": "index",
         "rawType": "int64",
         "type": "integer"
        },
        {
         "name": "id_subsistema",
         "rawType": "object",
         "type": "string"
        },
        {
         "name": "nom_subsistema",
         "rawType": "object",
         "type": "string"
        },
        {
         "name": "tip_reservatorio",
         "rawType": "object",
         "type": "string"
        },
        {
         "name": "nom_bacia",
         "rawType": "object",
         "type": "string"
        },
        {
         "name": "nom_ree",
         "rawType": "object",
         "type": "string"
        },
        {
         "name": "id_reservatorio",
         "rawType": "object",
         "type": "string"
        },
        {
         "name": "nom_reservatorio",
         "rawType": "object",
         "type": "string"
        },
        {
         "name": "num_ordemcs",
         "rawType": "object",
         "type": "string"
        },
        {
         "name": "cod_usina",
         "rawType": "object",
         "type": "string"
        },
        {
         "name": "din_instante",
         "rawType": "datetime64[ns]",
         "type": "datetime"
        },
        {
         "name": "val_nivelmontante",
         "rawType": "object",
         "type": "string"
        },
        {
         "name": "val_niveljusante",
         "rawType": "object",
         "type": "string"
        },
        {
         "name": "val_volumeutilcon",
         "rawType": "object",
         "type": "string"
        },
        {
         "name": "val_vazaoafluente",
         "rawType": "object",
         "type": "string"
        },
        {
         "name": "val_vazaoturbinada",
         "rawType": "object",
         "type": "string"
        },
        {
         "name": "val_vazaovertida",
         "rawType": "object",
         "type": "string"
        },
        {
         "name": "val_vazaooutrasestruturas",
         "rawType": "object",
         "type": "unknown"
        },
        {
         "name": "val_vazaodefluente",
         "rawType": "object",
         "type": "string"
        },
        {
         "name": "val_vazaotransferida",
         "rawType": "object",
         "type": "unknown"
        },
        {
         "name": "val_vazaonatural",
         "rawType": "object",
         "type": "string"
        },
        {
         "name": "val_vazaoartificial",
         "rawType": "object",
         "type": "unknown"
        },
        {
         "name": "val_vazaoincremental",
         "rawType": "object",
         "type": "string"
        },
        {
         "name": "val_vazaoevaporacaoliquida",
         "rawType": "object",
         "type": "string"
        },
        {
         "name": "val_vazaousoconsuntivo",
         "rawType": "object",
         "type": "string"
        },
        {
         "name": "val_vazaoincrementalbruta",
         "rawType": "object",
         "type": "unknown"
        }
       ],
       "conversionMethod": "pd.DataFrame",
       "ref": "001b9f5c-29b5-417d-b126-52641fc2d950",
       "rows": [
        [
         "0",
         "NE",
         "Nordeste",
         "FIO",
         "JEQUITINHONHA",
         "NORDESTE",
         "JEUITP",
         "ITAPEBI",
         "68.0",
         "154.0",
         "2024-01-01 00:00:00",
         "109.12999725341797",
         "27.190000534057617",
         "13.0",
         "94.52999877929688",
         "129.0",
         "5.0",
         "0.0",
         "134.0",
         "0.0",
         "59.38999938964844",
         null,
         "8.800000190734863",
         "-0.9089999794960022",
         "1.4945000410079956",
         "10.75"
        ],
        [
         "1",
         "NE",
         "Nordeste",
         "RCU",
         "PARAGUACU",
         "NORDESTE",
         "PGUCV",
         "PEDRA DO CAVALO",
         "109.0",
         "189.0",
         "2024-01-01 00:00:00",
         "111.68000030517578",
         "3.2899999618530273",
         "63.65999984741211",
         "3.0",
         "2.0",
         "0.0",
         null,
         "2.0",
         "13.0",
         "1.409999966621399",
         null,
         "1.409999966621399",
         "-1.590000033378601",
         "5.593900203704834",
         "1.409999966621399"
        ],
        [
         "2",
         "NE",
         "Nordeste",
         "RCU",
         "PARNAIBA",
         "NORDESTE",
         "PIBESP",
         "BOA ESPERANÇA",
         "110.0",
         "190.0",
         "2024-01-01 00:00:00",
         "299.4800109863281",
         "258.8800048828125",
         "21.600000381469727",
         "279.7200012207031",
         "245.0",
         "0.0",
         null,
         "245.0",
         null,
         "307.6700134277344",
         null,
         "307.6700134277344",
         "6.736000061035156",
         "0.7305999994277954",
         "287.19000244140625"
        ],
        [
         "3",
         "NE",
         "Nordeste",
         "RCU",
         "SAO FRANCISCO",
         "NORDESTE",
         "SFSOBR",
         "SOBRADINHO",
         "180.0",
         "169.0",
         "2024-01-01 00:00:00",
         "388.45001220703125",
         "361.79998779296875",
         "51.560001373291016",
         "720.0",
         "1012.0",
         "0.0",
         null,
         "1012.0",
         null,
         "1234.27001953125",
         null,
         "1002.27001953125",
         "208.07400512695312",
         "46.65129852294922",
         "1002.27001953125"
        ],
        [
         "4",
         "NE",
         "Nordeste",
         "RCU",
         "SAO FRANCISCO",
         "NORDESTE",
         "SFLGON",
         "LUIZ GONZAGA",
         "181.0",
         "172.0",
         "2024-01-01 00:00:00",
         "301.5299987792969",
         "251.50999450683594",
         "47.0",
         "940.0",
         "1057.0",
         "0.0",
         null,
         "1057.0",
         null,
         "1002.5700073242188",
         null,
         "0.0",
         "48.28200149536133",
         "106.4719009399414",
         null
        ]
       ],
       "shape": {
        "columns": 25,
        "rows": 5
       }
      },
      "text/html": [
       "<div>\n",
       "<style scoped>\n",
       "    .dataframe tbody tr th:only-of-type {\n",
       "        vertical-align: middle;\n",
       "    }\n",
       "\n",
       "    .dataframe tbody tr th {\n",
       "        vertical-align: top;\n",
       "    }\n",
       "\n",
       "    .dataframe thead th {\n",
       "        text-align: right;\n",
       "    }\n",
       "</style>\n",
       "<table border=\"1\" class=\"dataframe\">\n",
       "  <thead>\n",
       "    <tr style=\"text-align: right;\">\n",
       "      <th></th>\n",
       "      <th>id_subsistema</th>\n",
       "      <th>nom_subsistema</th>\n",
       "      <th>tip_reservatorio</th>\n",
       "      <th>nom_bacia</th>\n",
       "      <th>nom_ree</th>\n",
       "      <th>id_reservatorio</th>\n",
       "      <th>nom_reservatorio</th>\n",
       "      <th>num_ordemcs</th>\n",
       "      <th>cod_usina</th>\n",
       "      <th>din_instante</th>\n",
       "      <th>...</th>\n",
       "      <th>val_vazaovertida</th>\n",
       "      <th>val_vazaooutrasestruturas</th>\n",
       "      <th>val_vazaodefluente</th>\n",
       "      <th>val_vazaotransferida</th>\n",
       "      <th>val_vazaonatural</th>\n",
       "      <th>val_vazaoartificial</th>\n",
       "      <th>val_vazaoincremental</th>\n",
       "      <th>val_vazaoevaporacaoliquida</th>\n",
       "      <th>val_vazaousoconsuntivo</th>\n",
       "      <th>val_vazaoincrementalbruta</th>\n",
       "    </tr>\n",
       "  </thead>\n",
       "  <tbody>\n",
       "    <tr>\n",
       "      <th>0</th>\n",
       "      <td>NE</td>\n",
       "      <td>Nordeste</td>\n",
       "      <td>FIO</td>\n",
       "      <td>JEQUITINHONHA</td>\n",
       "      <td>NORDESTE</td>\n",
       "      <td>JEUITP</td>\n",
       "      <td>ITAPEBI</td>\n",
       "      <td>68.0</td>\n",
       "      <td>154.0</td>\n",
       "      <td>2024-01-01</td>\n",
       "      <td>...</td>\n",
       "      <td>5.0</td>\n",
       "      <td>0.0</td>\n",
       "      <td>134.0</td>\n",
       "      <td>0.0</td>\n",
       "      <td>59.38999938964844</td>\n",
       "      <td>NaN</td>\n",
       "      <td>8.800000190734863</td>\n",
       "      <td>-0.9089999794960022</td>\n",
       "      <td>1.4945000410079956</td>\n",
       "      <td>10.75</td>\n",
       "    </tr>\n",
       "    <tr>\n",
       "      <th>1</th>\n",
       "      <td>NE</td>\n",
       "      <td>Nordeste</td>\n",
       "      <td>RCU</td>\n",
       "      <td>PARAGUACU</td>\n",
       "      <td>NORDESTE</td>\n",
       "      <td>PGUCV</td>\n",
       "      <td>PEDRA DO CAVALO</td>\n",
       "      <td>109.0</td>\n",
       "      <td>189.0</td>\n",
       "      <td>2024-01-01</td>\n",
       "      <td>...</td>\n",
       "      <td>0.0</td>\n",
       "      <td>NaN</td>\n",
       "      <td>2.0</td>\n",
       "      <td>13.0</td>\n",
       "      <td>1.409999966621399</td>\n",
       "      <td>NaN</td>\n",
       "      <td>1.409999966621399</td>\n",
       "      <td>-1.590000033378601</td>\n",
       "      <td>5.593900203704834</td>\n",
       "      <td>1.409999966621399</td>\n",
       "    </tr>\n",
       "    <tr>\n",
       "      <th>2</th>\n",
       "      <td>NE</td>\n",
       "      <td>Nordeste</td>\n",
       "      <td>RCU</td>\n",
       "      <td>PARNAIBA</td>\n",
       "      <td>NORDESTE</td>\n",
       "      <td>PIBESP</td>\n",
       "      <td>BOA ESPERANÇA</td>\n",
       "      <td>110.0</td>\n",
       "      <td>190.0</td>\n",
       "      <td>2024-01-01</td>\n",
       "      <td>...</td>\n",
       "      <td>0.0</td>\n",
       "      <td>NaN</td>\n",
       "      <td>245.0</td>\n",
       "      <td>NaN</td>\n",
       "      <td>307.6700134277344</td>\n",
       "      <td>NaN</td>\n",
       "      <td>307.6700134277344</td>\n",
       "      <td>6.736000061035156</td>\n",
       "      <td>0.7305999994277954</td>\n",
       "      <td>287.19000244140625</td>\n",
       "    </tr>\n",
       "    <tr>\n",
       "      <th>3</th>\n",
       "      <td>NE</td>\n",
       "      <td>Nordeste</td>\n",
       "      <td>RCU</td>\n",
       "      <td>SAO FRANCISCO</td>\n",
       "      <td>NORDESTE</td>\n",
       "      <td>SFSOBR</td>\n",
       "      <td>SOBRADINHO</td>\n",
       "      <td>180.0</td>\n",
       "      <td>169.0</td>\n",
       "      <td>2024-01-01</td>\n",
       "      <td>...</td>\n",
       "      <td>0.0</td>\n",
       "      <td>NaN</td>\n",
       "      <td>1012.0</td>\n",
       "      <td>NaN</td>\n",
       "      <td>1234.27001953125</td>\n",
       "      <td>NaN</td>\n",
       "      <td>1002.27001953125</td>\n",
       "      <td>208.07400512695312</td>\n",
       "      <td>46.65129852294922</td>\n",
       "      <td>1002.27001953125</td>\n",
       "    </tr>\n",
       "    <tr>\n",
       "      <th>4</th>\n",
       "      <td>NE</td>\n",
       "      <td>Nordeste</td>\n",
       "      <td>RCU</td>\n",
       "      <td>SAO FRANCISCO</td>\n",
       "      <td>NORDESTE</td>\n",
       "      <td>SFLGON</td>\n",
       "      <td>LUIZ GONZAGA</td>\n",
       "      <td>181.0</td>\n",
       "      <td>172.0</td>\n",
       "      <td>2024-01-01</td>\n",
       "      <td>...</td>\n",
       "      <td>0.0</td>\n",
       "      <td>NaN</td>\n",
       "      <td>1057.0</td>\n",
       "      <td>NaN</td>\n",
       "      <td>1002.5700073242188</td>\n",
       "      <td>NaN</td>\n",
       "      <td>0.0</td>\n",
       "      <td>48.28200149536133</td>\n",
       "      <td>106.4719009399414</td>\n",
       "      <td>NaN</td>\n",
       "    </tr>\n",
       "  </tbody>\n",
       "</table>\n",
       "<p>5 rows × 25 columns</p>\n",
       "</div>"
      ],
      "text/plain": [
       "  id_subsistema nom_subsistema tip_reservatorio      nom_bacia   nom_ree  \\\n",
       "0            NE       Nordeste              FIO  JEQUITINHONHA  NORDESTE   \n",
       "1            NE       Nordeste              RCU      PARAGUACU  NORDESTE   \n",
       "2            NE       Nordeste              RCU       PARNAIBA  NORDESTE   \n",
       "3            NE       Nordeste              RCU  SAO FRANCISCO  NORDESTE   \n",
       "4            NE       Nordeste              RCU  SAO FRANCISCO  NORDESTE   \n",
       "\n",
       "  id_reservatorio nom_reservatorio num_ordemcs cod_usina din_instante  ...  \\\n",
       "0          JEUITP          ITAPEBI        68.0     154.0   2024-01-01  ...   \n",
       "1           PGUCV  PEDRA DO CAVALO       109.0     189.0   2024-01-01  ...   \n",
       "2          PIBESP    BOA ESPERANÇA       110.0     190.0   2024-01-01  ...   \n",
       "3          SFSOBR       SOBRADINHO       180.0     169.0   2024-01-01  ...   \n",
       "4          SFLGON     LUIZ GONZAGA       181.0     172.0   2024-01-01  ...   \n",
       "\n",
       "  val_vazaovertida val_vazaooutrasestruturas val_vazaodefluente  \\\n",
       "0              5.0                       0.0              134.0   \n",
       "1              0.0                       NaN                2.0   \n",
       "2              0.0                       NaN              245.0   \n",
       "3              0.0                       NaN             1012.0   \n",
       "4              0.0                       NaN             1057.0   \n",
       "\n",
       "  val_vazaotransferida    val_vazaonatural val_vazaoartificial  \\\n",
       "0                  0.0   59.38999938964844                 NaN   \n",
       "1                 13.0   1.409999966621399                 NaN   \n",
       "2                  NaN   307.6700134277344                 NaN   \n",
       "3                  NaN    1234.27001953125                 NaN   \n",
       "4                  NaN  1002.5700073242188                 NaN   \n",
       "\n",
       "  val_vazaoincremental val_vazaoevaporacaoliquida val_vazaousoconsuntivo  \\\n",
       "0    8.800000190734863        -0.9089999794960022     1.4945000410079956   \n",
       "1    1.409999966621399         -1.590000033378601      5.593900203704834   \n",
       "2    307.6700134277344          6.736000061035156     0.7305999994277954   \n",
       "3     1002.27001953125         208.07400512695312      46.65129852294922   \n",
       "4                  0.0          48.28200149536133      106.4719009399414   \n",
       "\n",
       "  val_vazaoincrementalbruta  \n",
       "0                     10.75  \n",
       "1         1.409999966621399  \n",
       "2        287.19000244140625  \n",
       "3          1002.27001953125  \n",
       "4                       NaN  \n",
       "\n",
       "[5 rows x 25 columns]"
      ]
     },
     "execution_count": 55,
     "metadata": {},
     "output_type": "execute_result"
    }
   ],
   "source": [
    "res = pd.read_csv('DADOS_HIDROLOGICOS_RES_2024.csv', sep = ';', decimal = ',', parse_dates = ['din_instante'])\n",
    "\n",
    "res.head()"
   ]
  },
  {
   "cell_type": "code",
   "execution_count": 58,
   "metadata": {},
   "outputs": [],
   "source": [
    "#Setting the columns dtypes\n",
    "res = res.astype({\n",
    "    'num_ordemcs': float,\n",
    "    'cod_usina': float,\n",
    "    'val_niveljusante': float,\n",
    "    'val_nivelmontante': float,\n",
    "    'val_volumeutilcon': float,\n",
    "    'val_vazaoafluente': float,\n",
    "    'val_vazaoturbinada': float,\n",
    "    'val_vazaovertida':float, \n",
    "    'val_vazaooutrasestruturas':float,\n",
    "    'val_vazaodefluente':float,\n",
    "    'val_vazaotransferida':float, \n",
    "    'val_vazaonatural':float, \n",
    "    'val_vazaoartificial':float,\n",
    "    'val_vazaoincremental':float, \n",
    "    'val_vazaoevaporacaoliquida':float,\n",
    "    'val_vazaousoconsuntivo':float, \n",
    "    'val_vazaoincrementalbruta':float\n",
    "})"
   ]
  },
  {
   "cell_type": "code",
   "execution_count": 59,
   "metadata": {},
   "outputs": [],
   "source": [
    "df2 = res.copy()"
   ]
  },
  {
   "cell_type": "code",
   "execution_count": 96,
   "metadata": {},
   "outputs": [],
   "source": [
    "df_slice1 = df2.iloc[:, 7:9] #To slice specific columns, you must use .iloc[:, colX:colY]\n",
    "df_slice2 = df2.iloc[:,11:13]\n",
    "df_slice3 = df2.iloc[:,7:9]"
   ]
  },
  {
   "cell_type": "code",
   "execution_count": 97,
   "metadata": {},
   "outputs": [
    {
     "data": {
      "application/vnd.microsoft.datawrangler.viewer.v0+json": {
       "columns": [
        {
         "name": "index",
         "rawType": "int64",
         "type": "integer"
        },
        {
         "name": "num_ordemcs",
         "rawType": "float64",
         "type": "float"
        },
        {
         "name": "cod_usina",
         "rawType": "float64",
         "type": "float"
        }
       ],
       "conversionMethod": "pd.DataFrame",
       "ref": "34f528bb-7d16-4277-ab80-4337e1d79aa3",
       "rows": [
        [
         "0",
         "68.0",
         "154.0"
        ],
        [
         "1",
         "109.0",
         "189.0"
        ],
        [
         "2",
         "110.0",
         "190.0"
        ],
        [
         "3",
         "180.0",
         "169.0"
        ],
        [
         "4",
         "181.0",
         "172.0"
        ],
        [
         "5",
         "182.0",
         "173.0"
        ],
        [
         "6",
         "183.0",
         "174.0"
        ],
        [
         "7",
         "184.0",
         "175.0"
        ],
        [
         "8",
         "185.0",
         "178.0"
        ],
        [
         "9",
         "1.0",
         "204.0"
        ],
        [
         "10",
         "2.0",
         "280.0"
        ],
        [
         "11",
         "3.0",
         "284.0"
        ],
        [
         "12",
         "10.0",
         "277.0"
        ],
        [
         "13",
         "11.0",
         "309.0"
        ],
        [
         "14",
         "16.0",
         "272.0"
        ],
        [
         "15",
         "17.0",
         "286.0"
        ],
        [
         "16",
         "18.0",
         "288.0"
        ],
        [
         "17",
         "19.0",
         "314.0"
        ],
        [
         "18",
         "218.0",
         "267.0"
        ],
        [
         "19",
         "219.0",
         "275.0"
        ],
        [
         "20",
         null,
         "225.0"
        ],
        [
         "21",
         null,
         "44.0"
        ],
        [
         "22",
         null,
         "0.0"
        ],
        [
         "23",
         null,
         null
        ],
        [
         "24",
         "4.0",
         "196.0"
        ],
        [
         "25",
         "5.0",
         "285.0"
        ],
        [
         "26",
         "6.0",
         "287.0"
        ],
        [
         "27",
         "7.0",
         "279.0"
        ],
        [
         "28",
         "8.0",
         "276.0"
        ],
        [
         "29",
         "9.0",
         "310.0"
        ],
        [
         "30",
         "12.0",
         "227.0"
        ],
        [
         "31",
         "13.0",
         "228.0"
        ],
        [
         "32",
         "14.0",
         "229.0"
        ],
        [
         "33",
         "15.0",
         "230.0"
        ],
        [
         "34",
         "23.0",
         "139.0"
        ],
        [
         "35",
         "24.0",
         "192.0"
        ],
        [
         "36",
         "25.0",
         "193.0"
        ],
        [
         "37",
         "26.0",
         "193.0"
        ],
        [
         "38",
         "27.0",
         "134.0"
        ],
        [
         "39",
         "28.0",
         "135.0"
        ],
        [
         "40",
         "29.0",
         "141.0"
        ],
        [
         "41",
         "30.0",
         "143.0"
        ],
        [
         "42",
         "31.0",
         "144.0"
        ],
        [
         "43",
         "32.0",
         "1.0"
        ],
        [
         "44",
         "33.0",
         "2.0"
        ],
        [
         "45",
         "34.0",
         "4.0"
        ],
        [
         "46",
         "35.0",
         "6.0"
        ],
        [
         "47",
         "36.0",
         "7.0"
        ],
        [
         "48",
         "37.0",
         "8.0"
        ],
        [
         "49",
         "38.0",
         "9.0"
        ]
       ],
       "shape": {
        "columns": 2,
        "rows": 63165
       }
      },
      "text/html": [
       "<div>\n",
       "<style scoped>\n",
       "    .dataframe tbody tr th:only-of-type {\n",
       "        vertical-align: middle;\n",
       "    }\n",
       "\n",
       "    .dataframe tbody tr th {\n",
       "        vertical-align: top;\n",
       "    }\n",
       "\n",
       "    .dataframe thead th {\n",
       "        text-align: right;\n",
       "    }\n",
       "</style>\n",
       "<table border=\"1\" class=\"dataframe\">\n",
       "  <thead>\n",
       "    <tr style=\"text-align: right;\">\n",
       "      <th></th>\n",
       "      <th>num_ordemcs</th>\n",
       "      <th>cod_usina</th>\n",
       "    </tr>\n",
       "  </thead>\n",
       "  <tbody>\n",
       "    <tr>\n",
       "      <th>0</th>\n",
       "      <td>68.0</td>\n",
       "      <td>154.0</td>\n",
       "    </tr>\n",
       "    <tr>\n",
       "      <th>1</th>\n",
       "      <td>109.0</td>\n",
       "      <td>189.0</td>\n",
       "    </tr>\n",
       "    <tr>\n",
       "      <th>2</th>\n",
       "      <td>110.0</td>\n",
       "      <td>190.0</td>\n",
       "    </tr>\n",
       "    <tr>\n",
       "      <th>3</th>\n",
       "      <td>180.0</td>\n",
       "      <td>169.0</td>\n",
       "    </tr>\n",
       "    <tr>\n",
       "      <th>4</th>\n",
       "      <td>181.0</td>\n",
       "      <td>172.0</td>\n",
       "    </tr>\n",
       "    <tr>\n",
       "      <th>...</th>\n",
       "      <td>...</td>\n",
       "      <td>...</td>\n",
       "    </tr>\n",
       "    <tr>\n",
       "      <th>63160</th>\n",
       "      <td>172.0</td>\n",
       "      <td>94.0</td>\n",
       "    </tr>\n",
       "    <tr>\n",
       "      <th>63161</th>\n",
       "      <td>173.0</td>\n",
       "      <td>103.0</td>\n",
       "    </tr>\n",
       "    <tr>\n",
       "      <th>63162</th>\n",
       "      <td>174.0</td>\n",
       "      <td>95.0</td>\n",
       "    </tr>\n",
       "    <tr>\n",
       "      <th>63163</th>\n",
       "      <td>175.0</td>\n",
       "      <td>101.0</td>\n",
       "    </tr>\n",
       "    <tr>\n",
       "      <th>63164</th>\n",
       "      <td>176.0</td>\n",
       "      <td>102.0</td>\n",
       "    </tr>\n",
       "  </tbody>\n",
       "</table>\n",
       "<p>63165 rows × 2 columns</p>\n",
       "</div>"
      ],
      "text/plain": [
       "       num_ordemcs  cod_usina\n",
       "0             68.0      154.0\n",
       "1            109.0      189.0\n",
       "2            110.0      190.0\n",
       "3            180.0      169.0\n",
       "4            181.0      172.0\n",
       "...            ...        ...\n",
       "63160        172.0       94.0\n",
       "63161        173.0      103.0\n",
       "63162        174.0       95.0\n",
       "63163        175.0      101.0\n",
       "63164        176.0      102.0\n",
       "\n",
       "[63165 rows x 2 columns]"
      ]
     },
     "execution_count": 97,
     "metadata": {},
     "output_type": "execute_result"
    }
   ],
   "source": [
    "df_slice1"
   ]
  },
  {
   "cell_type": "code",
   "execution_count": 100,
   "metadata": {},
   "outputs": [
    {
     "data": {
      "application/vnd.microsoft.datawrangler.viewer.v0+json": {
       "columns": [
        {
         "name": "index",
         "rawType": "int64",
         "type": "integer"
        },
        {
         "name": "num_ordemcs",
         "rawType": "float64",
         "type": "float"
        },
        {
         "name": "cod_usina",
         "rawType": "float64",
         "type": "float"
        }
       ],
       "conversionMethod": "pd.DataFrame",
       "ref": "03ffd46b-59d8-4c21-aa3d-79c1dff6705f",
       "rows": [
        [
         "0",
         "204.0",
         "462.0"
        ],
        [
         "1",
         "327.0",
         "567.0"
        ],
        [
         "2",
         "330.0",
         "570.0"
        ],
        [
         "3",
         "540.0",
         "507.0"
        ],
        [
         "4",
         "543.0",
         "516.0"
        ],
        [
         "5",
         "546.0",
         "519.0"
        ],
        [
         "6",
         "549.0",
         "522.0"
        ],
        [
         "7",
         "552.0",
         "525.0"
        ],
        [
         "8",
         "555.0",
         "534.0"
        ],
        [
         "9",
         "3.0",
         "612.0"
        ],
        [
         "10",
         "6.0",
         "840.0"
        ],
        [
         "11",
         "9.0",
         "852.0"
        ],
        [
         "12",
         "30.0",
         "831.0"
        ],
        [
         "13",
         "33.0",
         "927.0"
        ],
        [
         "14",
         "48.0",
         "816.0"
        ],
        [
         "15",
         "51.0",
         "858.0"
        ],
        [
         "16",
         "54.0",
         "864.0"
        ],
        [
         "17",
         "57.0",
         "942.0"
        ],
        [
         "18",
         "654.0",
         "801.0"
        ],
        [
         "19",
         "657.0",
         "825.0"
        ],
        [
         "20",
         null,
         "675.0"
        ],
        [
         "21",
         null,
         "132.0"
        ],
        [
         "22",
         null,
         "0.0"
        ],
        [
         "23",
         null,
         null
        ],
        [
         "24",
         "12.0",
         "588.0"
        ],
        [
         "25",
         "15.0",
         "855.0"
        ],
        [
         "26",
         "18.0",
         "861.0"
        ],
        [
         "27",
         "21.0",
         "837.0"
        ],
        [
         "28",
         "24.0",
         "828.0"
        ],
        [
         "29",
         "27.0",
         "930.0"
        ],
        [
         "30",
         "36.0",
         "681.0"
        ],
        [
         "31",
         "39.0",
         "684.0"
        ],
        [
         "32",
         "42.0",
         "687.0"
        ],
        [
         "33",
         "45.0",
         "690.0"
        ],
        [
         "34",
         "69.0",
         "417.0"
        ],
        [
         "35",
         "72.0",
         "576.0"
        ],
        [
         "36",
         "75.0",
         "579.0"
        ],
        [
         "37",
         "78.0",
         "579.0"
        ],
        [
         "38",
         "81.0",
         "402.0"
        ],
        [
         "39",
         "84.0",
         "405.0"
        ],
        [
         "40",
         "87.0",
         "423.0"
        ],
        [
         "41",
         "90.0",
         "429.0"
        ],
        [
         "42",
         "93.0",
         "432.0"
        ],
        [
         "43",
         "96.0",
         "3.0"
        ],
        [
         "44",
         "99.0",
         "6.0"
        ],
        [
         "45",
         "102.0",
         "12.0"
        ],
        [
         "46",
         "105.0",
         "18.0"
        ],
        [
         "47",
         "108.0",
         "21.0"
        ],
        [
         "48",
         "111.0",
         "24.0"
        ],
        [
         "49",
         "114.0",
         "27.0"
        ]
       ],
       "shape": {
        "columns": 2,
        "rows": 63165
       }
      },
      "text/html": [
       "<div>\n",
       "<style scoped>\n",
       "    .dataframe tbody tr th:only-of-type {\n",
       "        vertical-align: middle;\n",
       "    }\n",
       "\n",
       "    .dataframe tbody tr th {\n",
       "        vertical-align: top;\n",
       "    }\n",
       "\n",
       "    .dataframe thead th {\n",
       "        text-align: right;\n",
       "    }\n",
       "</style>\n",
       "<table border=\"1\" class=\"dataframe\">\n",
       "  <thead>\n",
       "    <tr style=\"text-align: right;\">\n",
       "      <th></th>\n",
       "      <th>num_ordemcs</th>\n",
       "      <th>cod_usina</th>\n",
       "    </tr>\n",
       "  </thead>\n",
       "  <tbody>\n",
       "    <tr>\n",
       "      <th>0</th>\n",
       "      <td>204.0</td>\n",
       "      <td>462.0</td>\n",
       "    </tr>\n",
       "    <tr>\n",
       "      <th>1</th>\n",
       "      <td>327.0</td>\n",
       "      <td>567.0</td>\n",
       "    </tr>\n",
       "    <tr>\n",
       "      <th>2</th>\n",
       "      <td>330.0</td>\n",
       "      <td>570.0</td>\n",
       "    </tr>\n",
       "    <tr>\n",
       "      <th>3</th>\n",
       "      <td>540.0</td>\n",
       "      <td>507.0</td>\n",
       "    </tr>\n",
       "    <tr>\n",
       "      <th>4</th>\n",
       "      <td>543.0</td>\n",
       "      <td>516.0</td>\n",
       "    </tr>\n",
       "    <tr>\n",
       "      <th>...</th>\n",
       "      <td>...</td>\n",
       "      <td>...</td>\n",
       "    </tr>\n",
       "    <tr>\n",
       "      <th>63160</th>\n",
       "      <td>516.0</td>\n",
       "      <td>282.0</td>\n",
       "    </tr>\n",
       "    <tr>\n",
       "      <th>63161</th>\n",
       "      <td>519.0</td>\n",
       "      <td>309.0</td>\n",
       "    </tr>\n",
       "    <tr>\n",
       "      <th>63162</th>\n",
       "      <td>522.0</td>\n",
       "      <td>285.0</td>\n",
       "    </tr>\n",
       "    <tr>\n",
       "      <th>63163</th>\n",
       "      <td>525.0</td>\n",
       "      <td>303.0</td>\n",
       "    </tr>\n",
       "    <tr>\n",
       "      <th>63164</th>\n",
       "      <td>528.0</td>\n",
       "      <td>306.0</td>\n",
       "    </tr>\n",
       "  </tbody>\n",
       "</table>\n",
       "<p>63165 rows × 2 columns</p>\n",
       "</div>"
      ],
      "text/plain": [
       "       num_ordemcs  cod_usina\n",
       "0            204.0      462.0\n",
       "1            327.0      567.0\n",
       "2            330.0      570.0\n",
       "3            540.0      507.0\n",
       "4            543.0      516.0\n",
       "...            ...        ...\n",
       "63160        516.0      282.0\n",
       "63161        519.0      309.0\n",
       "63162        522.0      285.0\n",
       "63163        525.0      303.0\n",
       "63164        528.0      306.0\n",
       "\n",
       "[63165 rows x 2 columns]"
      ]
     },
     "execution_count": 100,
     "metadata": {},
     "output_type": "execute_result"
    }
   ],
   "source": [
    "df_slice1 + 2*df_slice3"
   ]
  },
  {
   "cell_type": "code",
   "execution_count": 101,
   "metadata": {},
   "outputs": [
    {
     "data": {
      "application/vnd.microsoft.datawrangler.viewer.v0+json": {
       "columns": [
        {
         "name": "index",
         "rawType": "int64",
         "type": "integer"
        },
        {
         "name": "num_ordemcs",
         "rawType": "float64",
         "type": "float"
        },
        {
         "name": "cod_usina",
         "rawType": "float64",
         "type": "float"
        }
       ],
       "conversionMethod": "pd.DataFrame",
       "ref": "ec6fa9de-db57-4e6a-b941-f844d924d8f5",
       "rows": [
        [
         "0",
         "0.0",
         "0.0"
        ],
        [
         "1",
         "0.0",
         "0.0"
        ],
        [
         "2",
         "0.0",
         "0.0"
        ],
        [
         "3",
         "0.0",
         "0.0"
        ],
        [
         "4",
         "0.0",
         "0.0"
        ],
        [
         "5",
         "0.0",
         "0.0"
        ],
        [
         "6",
         "0.0",
         "0.0"
        ],
        [
         "7",
         "0.0",
         "0.0"
        ],
        [
         "8",
         "0.0",
         "0.0"
        ],
        [
         "9",
         "0.0",
         "0.0"
        ],
        [
         "10",
         "0.0",
         "0.0"
        ],
        [
         "11",
         "0.0",
         "0.0"
        ],
        [
         "12",
         "0.0",
         "0.0"
        ],
        [
         "13",
         "0.0",
         "0.0"
        ],
        [
         "14",
         "0.0",
         "0.0"
        ],
        [
         "15",
         "0.0",
         "0.0"
        ],
        [
         "16",
         "0.0",
         "0.0"
        ],
        [
         "17",
         "0.0",
         "0.0"
        ],
        [
         "18",
         "0.0",
         "0.0"
        ],
        [
         "19",
         "0.0",
         "0.0"
        ],
        [
         "20",
         null,
         "0.0"
        ],
        [
         "21",
         null,
         "0.0"
        ],
        [
         "22",
         null,
         "0.0"
        ],
        [
         "23",
         null,
         null
        ],
        [
         "24",
         "0.0",
         "0.0"
        ],
        [
         "25",
         "0.0",
         "0.0"
        ],
        [
         "26",
         "0.0",
         "0.0"
        ],
        [
         "27",
         "0.0",
         "0.0"
        ],
        [
         "28",
         "0.0",
         "0.0"
        ],
        [
         "29",
         "0.0",
         "0.0"
        ],
        [
         "30",
         "0.0",
         "0.0"
        ],
        [
         "31",
         "0.0",
         "0.0"
        ],
        [
         "32",
         "0.0",
         "0.0"
        ],
        [
         "33",
         "0.0",
         "0.0"
        ],
        [
         "34",
         "0.0",
         "0.0"
        ],
        [
         "35",
         "0.0",
         "0.0"
        ],
        [
         "36",
         "0.0",
         "0.0"
        ],
        [
         "37",
         "0.0",
         "0.0"
        ],
        [
         "38",
         "0.0",
         "0.0"
        ],
        [
         "39",
         "0.0",
         "0.0"
        ],
        [
         "40",
         "0.0",
         "0.0"
        ],
        [
         "41",
         "0.0",
         "0.0"
        ],
        [
         "42",
         "0.0",
         "0.0"
        ],
        [
         "43",
         "0.0",
         "0.0"
        ],
        [
         "44",
         "0.0",
         "0.0"
        ],
        [
         "45",
         "0.0",
         "0.0"
        ],
        [
         "46",
         "0.0",
         "0.0"
        ],
        [
         "47",
         "0.0",
         "0.0"
        ],
        [
         "48",
         "0.0",
         "0.0"
        ],
        [
         "49",
         "0.0",
         "0.0"
        ]
       ],
       "shape": {
        "columns": 2,
        "rows": 63165
       }
      },
      "text/html": [
       "<div>\n",
       "<style scoped>\n",
       "    .dataframe tbody tr th:only-of-type {\n",
       "        vertical-align: middle;\n",
       "    }\n",
       "\n",
       "    .dataframe tbody tr th {\n",
       "        vertical-align: top;\n",
       "    }\n",
       "\n",
       "    .dataframe thead th {\n",
       "        text-align: right;\n",
       "    }\n",
       "</style>\n",
       "<table border=\"1\" class=\"dataframe\">\n",
       "  <thead>\n",
       "    <tr style=\"text-align: right;\">\n",
       "      <th></th>\n",
       "      <th>num_ordemcs</th>\n",
       "      <th>cod_usina</th>\n",
       "    </tr>\n",
       "  </thead>\n",
       "  <tbody>\n",
       "    <tr>\n",
       "      <th>0</th>\n",
       "      <td>0.0</td>\n",
       "      <td>0.0</td>\n",
       "    </tr>\n",
       "    <tr>\n",
       "      <th>1</th>\n",
       "      <td>0.0</td>\n",
       "      <td>0.0</td>\n",
       "    </tr>\n",
       "    <tr>\n",
       "      <th>2</th>\n",
       "      <td>0.0</td>\n",
       "      <td>0.0</td>\n",
       "    </tr>\n",
       "    <tr>\n",
       "      <th>3</th>\n",
       "      <td>0.0</td>\n",
       "      <td>0.0</td>\n",
       "    </tr>\n",
       "    <tr>\n",
       "      <th>4</th>\n",
       "      <td>0.0</td>\n",
       "      <td>0.0</td>\n",
       "    </tr>\n",
       "    <tr>\n",
       "      <th>...</th>\n",
       "      <td>...</td>\n",
       "      <td>...</td>\n",
       "    </tr>\n",
       "    <tr>\n",
       "      <th>63160</th>\n",
       "      <td>0.0</td>\n",
       "      <td>0.0</td>\n",
       "    </tr>\n",
       "    <tr>\n",
       "      <th>63161</th>\n",
       "      <td>0.0</td>\n",
       "      <td>0.0</td>\n",
       "    </tr>\n",
       "    <tr>\n",
       "      <th>63162</th>\n",
       "      <td>0.0</td>\n",
       "      <td>0.0</td>\n",
       "    </tr>\n",
       "    <tr>\n",
       "      <th>63163</th>\n",
       "      <td>0.0</td>\n",
       "      <td>0.0</td>\n",
       "    </tr>\n",
       "    <tr>\n",
       "      <th>63164</th>\n",
       "      <td>0.0</td>\n",
       "      <td>0.0</td>\n",
       "    </tr>\n",
       "  </tbody>\n",
       "</table>\n",
       "<p>63165 rows × 2 columns</p>\n",
       "</div>"
      ],
      "text/plain": [
       "       num_ordemcs  cod_usina\n",
       "0              0.0        0.0\n",
       "1              0.0        0.0\n",
       "2              0.0        0.0\n",
       "3              0.0        0.0\n",
       "4              0.0        0.0\n",
       "...            ...        ...\n",
       "63160          0.0        0.0\n",
       "63161          0.0        0.0\n",
       "63162          0.0        0.0\n",
       "63163          0.0        0.0\n",
       "63164          0.0        0.0\n",
       "\n",
       "[63165 rows x 2 columns]"
      ]
     },
     "execution_count": 101,
     "metadata": {},
     "output_type": "execute_result"
    }
   ],
   "source": [
    "df_slice3.sub(df_slice1, axis = 'columns') #Excepted to be Zero."
   ]
  },
  {
   "cell_type": "code",
   "execution_count": null,
   "metadata": {},
   "outputs": [
    {
     "data": {
      "application/vnd.microsoft.datawrangler.viewer.v0+json": {
       "columns": [
        {
         "name": "index",
         "rawType": "int64",
         "type": "integer"
        },
        {
         "name": "num_ordemcs",
         "rawType": "bool",
         "type": "boolean"
        },
        {
         "name": "cod_usina",
         "rawType": "bool",
         "type": "boolean"
        }
       ],
       "conversionMethod": "pd.DataFrame",
       "ref": "595a8568-ebbd-456e-a4b2-25a70affdc63",
       "rows": [
        [
         "0",
         "False",
         "False"
        ],
        [
         "1",
         "False",
         "False"
        ],
        [
         "2",
         "False",
         "False"
        ],
        [
         "3",
         "False",
         "False"
        ],
        [
         "4",
         "False",
         "False"
        ],
        [
         "5",
         "False",
         "False"
        ],
        [
         "6",
         "False",
         "False"
        ],
        [
         "7",
         "False",
         "False"
        ],
        [
         "8",
         "False",
         "False"
        ],
        [
         "9",
         "False",
         "False"
        ],
        [
         "10",
         "False",
         "False"
        ],
        [
         "11",
         "False",
         "False"
        ],
        [
         "12",
         "False",
         "False"
        ],
        [
         "13",
         "False",
         "False"
        ],
        [
         "14",
         "False",
         "False"
        ],
        [
         "15",
         "False",
         "False"
        ],
        [
         "16",
         "False",
         "False"
        ],
        [
         "17",
         "False",
         "False"
        ],
        [
         "18",
         "False",
         "False"
        ],
        [
         "19",
         "False",
         "False"
        ],
        [
         "20",
         "False",
         "False"
        ],
        [
         "21",
         "False",
         "False"
        ],
        [
         "22",
         "False",
         "False"
        ],
        [
         "23",
         "False",
         "False"
        ],
        [
         "24",
         "False",
         "False"
        ],
        [
         "25",
         "False",
         "False"
        ],
        [
         "26",
         "False",
         "False"
        ],
        [
         "27",
         "False",
         "False"
        ],
        [
         "28",
         "False",
         "False"
        ],
        [
         "29",
         "False",
         "False"
        ],
        [
         "30",
         "False",
         "False"
        ],
        [
         "31",
         "False",
         "False"
        ],
        [
         "32",
         "False",
         "False"
        ],
        [
         "33",
         "False",
         "False"
        ],
        [
         "34",
         "False",
         "False"
        ],
        [
         "35",
         "False",
         "False"
        ],
        [
         "36",
         "False",
         "False"
        ],
        [
         "37",
         "False",
         "False"
        ],
        [
         "38",
         "False",
         "False"
        ],
        [
         "39",
         "False",
         "False"
        ],
        [
         "40",
         "False",
         "False"
        ],
        [
         "41",
         "False",
         "False"
        ],
        [
         "42",
         "False",
         "False"
        ],
        [
         "43",
         "False",
         "False"
        ],
        [
         "44",
         "False",
         "False"
        ],
        [
         "45",
         "False",
         "False"
        ],
        [
         "46",
         "False",
         "False"
        ],
        [
         "47",
         "False",
         "False"
        ],
        [
         "48",
         "False",
         "False"
        ],
        [
         "49",
         "False",
         "False"
        ]
       ],
       "shape": {
        "columns": 2,
        "rows": 63165
       }
      },
      "text/html": [
       "<div>\n",
       "<style scoped>\n",
       "    .dataframe tbody tr th:only-of-type {\n",
       "        vertical-align: middle;\n",
       "    }\n",
       "\n",
       "    .dataframe tbody tr th {\n",
       "        vertical-align: top;\n",
       "    }\n",
       "\n",
       "    .dataframe thead th {\n",
       "        text-align: right;\n",
       "    }\n",
       "</style>\n",
       "<table border=\"1\" class=\"dataframe\">\n",
       "  <thead>\n",
       "    <tr style=\"text-align: right;\">\n",
       "      <th></th>\n",
       "      <th>num_ordemcs</th>\n",
       "      <th>cod_usina</th>\n",
       "    </tr>\n",
       "  </thead>\n",
       "  <tbody>\n",
       "    <tr>\n",
       "      <th>0</th>\n",
       "      <td>False</td>\n",
       "      <td>False</td>\n",
       "    </tr>\n",
       "    <tr>\n",
       "      <th>1</th>\n",
       "      <td>False</td>\n",
       "      <td>False</td>\n",
       "    </tr>\n",
       "    <tr>\n",
       "      <th>2</th>\n",
       "      <td>False</td>\n",
       "      <td>False</td>\n",
       "    </tr>\n",
       "    <tr>\n",
       "      <th>3</th>\n",
       "      <td>False</td>\n",
       "      <td>False</td>\n",
       "    </tr>\n",
       "    <tr>\n",
       "      <th>4</th>\n",
       "      <td>False</td>\n",
       "      <td>False</td>\n",
       "    </tr>\n",
       "    <tr>\n",
       "      <th>...</th>\n",
       "      <td>...</td>\n",
       "      <td>...</td>\n",
       "    </tr>\n",
       "    <tr>\n",
       "      <th>63160</th>\n",
       "      <td>False</td>\n",
       "      <td>False</td>\n",
       "    </tr>\n",
       "    <tr>\n",
       "      <th>63161</th>\n",
       "      <td>False</td>\n",
       "      <td>False</td>\n",
       "    </tr>\n",
       "    <tr>\n",
       "      <th>63162</th>\n",
       "      <td>False</td>\n",
       "      <td>False</td>\n",
       "    </tr>\n",
       "    <tr>\n",
       "      <th>63163</th>\n",
       "      <td>False</td>\n",
       "      <td>False</td>\n",
       "    </tr>\n",
       "    <tr>\n",
       "      <th>63164</th>\n",
       "      <td>False</td>\n",
       "      <td>False</td>\n",
       "    </tr>\n",
       "  </tbody>\n",
       "</table>\n",
       "<p>63165 rows × 2 columns</p>\n",
       "</div>"
      ],
      "text/plain": [
       "       num_ordemcs  cod_usina\n",
       "0            False      False\n",
       "1            False      False\n",
       "2            False      False\n",
       "3            False      False\n",
       "4            False      False\n",
       "...            ...        ...\n",
       "63160        False      False\n",
       "63161        False      False\n",
       "63162        False      False\n",
       "63163        False      False\n",
       "63164        False      False\n",
       "\n",
       "[63165 rows x 2 columns]"
      ]
     },
     "execution_count": 102,
     "metadata": {},
     "output_type": "execute_result"
    }
   ],
   "source": [
    "df_slice3.gt(df_slice1) #Greater Than\n",
    "#Since they are equal, it is expected to be all False.\n",
    "#We can also compare dfs with eq, ne, lt, gt, le, and ge"
   ]
  },
  {
   "cell_type": "code",
   "execution_count": 104,
   "metadata": {},
   "outputs": [
    {
     "data": {
      "text/plain": [
       "num_ordemcs    False\n",
       "cod_usina      False\n",
       "dtype: bool"
      ]
     },
     "execution_count": 104,
     "metadata": {},
     "output_type": "execute_result"
    }
   ],
   "source": [
    "#Boolean Reductions\n",
    "\n",
    "(df_slice1 > 0).all()"
   ]
  },
  {
   "cell_type": "code",
   "execution_count": 108,
   "metadata": {},
   "outputs": [
    {
     "data": {
      "text/plain": [
       "num_ordemcs    False\n",
       "cod_usina      False\n",
       "dtype: bool"
      ]
     },
     "execution_count": 108,
     "metadata": {},
     "output_type": "execute_result"
    }
   ],
   "source": [
    "(df_slice1 > 5000).any()"
   ]
  },
  {
   "cell_type": "code",
   "execution_count": 109,
   "metadata": {},
   "outputs": [
    {
     "data": {
      "text/plain": [
       "False"
      ]
     },
     "execution_count": 109,
     "metadata": {},
     "output_type": "execute_result"
    }
   ],
   "source": [
    "df.empty"
   ]
  },
  {
   "cell_type": "code",
   "execution_count": 112,
   "metadata": {},
   "outputs": [
    {
     "data": {
      "application/vnd.microsoft.datawrangler.viewer.v0+json": {
       "columns": [
        {
         "name": "index",
         "rawType": "int64",
         "type": "integer"
        },
        {
         "name": "num_ordemcs",
         "rawType": "bool",
         "type": "boolean"
        },
        {
         "name": "cod_usina",
         "rawType": "bool",
         "type": "boolean"
        }
       ],
       "conversionMethod": "pd.DataFrame",
       "ref": "452a46d6-947a-45a8-90a1-f92d5369896e",
       "rows": [
        [
         "0",
         "False",
         "False"
        ],
        [
         "1",
         "False",
         "False"
        ],
        [
         "2",
         "False",
         "False"
        ],
        [
         "3",
         "False",
         "False"
        ],
        [
         "4",
         "False",
         "False"
        ],
        [
         "5",
         "False",
         "False"
        ],
        [
         "6",
         "False",
         "False"
        ],
        [
         "7",
         "False",
         "False"
        ],
        [
         "8",
         "False",
         "False"
        ],
        [
         "9",
         "False",
         "False"
        ],
        [
         "10",
         "False",
         "False"
        ],
        [
         "11",
         "False",
         "False"
        ],
        [
         "12",
         "False",
         "False"
        ],
        [
         "13",
         "False",
         "False"
        ],
        [
         "14",
         "False",
         "False"
        ],
        [
         "15",
         "False",
         "False"
        ],
        [
         "16",
         "False",
         "False"
        ],
        [
         "17",
         "False",
         "False"
        ],
        [
         "18",
         "False",
         "False"
        ],
        [
         "19",
         "False",
         "False"
        ],
        [
         "20",
         "False",
         "False"
        ],
        [
         "21",
         "False",
         "False"
        ],
        [
         "22",
         "False",
         "True"
        ],
        [
         "23",
         "False",
         "False"
        ],
        [
         "24",
         "False",
         "False"
        ],
        [
         "25",
         "False",
         "False"
        ],
        [
         "26",
         "False",
         "False"
        ],
        [
         "27",
         "False",
         "False"
        ],
        [
         "28",
         "False",
         "False"
        ],
        [
         "29",
         "False",
         "False"
        ],
        [
         "30",
         "False",
         "False"
        ],
        [
         "31",
         "False",
         "False"
        ],
        [
         "32",
         "False",
         "False"
        ],
        [
         "33",
         "False",
         "False"
        ],
        [
         "34",
         "False",
         "False"
        ],
        [
         "35",
         "False",
         "False"
        ],
        [
         "36",
         "False",
         "False"
        ],
        [
         "37",
         "False",
         "False"
        ],
        [
         "38",
         "False",
         "False"
        ],
        [
         "39",
         "False",
         "False"
        ],
        [
         "40",
         "False",
         "False"
        ],
        [
         "41",
         "False",
         "False"
        ],
        [
         "42",
         "False",
         "False"
        ],
        [
         "43",
         "False",
         "False"
        ],
        [
         "44",
         "False",
         "False"
        ],
        [
         "45",
         "False",
         "False"
        ],
        [
         "46",
         "False",
         "False"
        ],
        [
         "47",
         "False",
         "False"
        ],
        [
         "48",
         "False",
         "False"
        ],
        [
         "49",
         "False",
         "False"
        ]
       ],
       "shape": {
        "columns": 2,
        "rows": 63165
       }
      },
      "text/html": [
       "<div>\n",
       "<style scoped>\n",
       "    .dataframe tbody tr th:only-of-type {\n",
       "        vertical-align: middle;\n",
       "    }\n",
       "\n",
       "    .dataframe tbody tr th {\n",
       "        vertical-align: top;\n",
       "    }\n",
       "\n",
       "    .dataframe thead th {\n",
       "        text-align: right;\n",
       "    }\n",
       "</style>\n",
       "<table border=\"1\" class=\"dataframe\">\n",
       "  <thead>\n",
       "    <tr style=\"text-align: right;\">\n",
       "      <th></th>\n",
       "      <th>num_ordemcs</th>\n",
       "      <th>cod_usina</th>\n",
       "    </tr>\n",
       "  </thead>\n",
       "  <tbody>\n",
       "    <tr>\n",
       "      <th>0</th>\n",
       "      <td>False</td>\n",
       "      <td>False</td>\n",
       "    </tr>\n",
       "    <tr>\n",
       "      <th>1</th>\n",
       "      <td>False</td>\n",
       "      <td>False</td>\n",
       "    </tr>\n",
       "    <tr>\n",
       "      <th>2</th>\n",
       "      <td>False</td>\n",
       "      <td>False</td>\n",
       "    </tr>\n",
       "    <tr>\n",
       "      <th>3</th>\n",
       "      <td>False</td>\n",
       "      <td>False</td>\n",
       "    </tr>\n",
       "    <tr>\n",
       "      <th>4</th>\n",
       "      <td>False</td>\n",
       "      <td>False</td>\n",
       "    </tr>\n",
       "    <tr>\n",
       "      <th>...</th>\n",
       "      <td>...</td>\n",
       "      <td>...</td>\n",
       "    </tr>\n",
       "    <tr>\n",
       "      <th>63160</th>\n",
       "      <td>False</td>\n",
       "      <td>False</td>\n",
       "    </tr>\n",
       "    <tr>\n",
       "      <th>63161</th>\n",
       "      <td>False</td>\n",
       "      <td>False</td>\n",
       "    </tr>\n",
       "    <tr>\n",
       "      <th>63162</th>\n",
       "      <td>False</td>\n",
       "      <td>False</td>\n",
       "    </tr>\n",
       "    <tr>\n",
       "      <th>63163</th>\n",
       "      <td>False</td>\n",
       "      <td>False</td>\n",
       "    </tr>\n",
       "    <tr>\n",
       "      <th>63164</th>\n",
       "      <td>False</td>\n",
       "      <td>False</td>\n",
       "    </tr>\n",
       "  </tbody>\n",
       "</table>\n",
       "<p>63165 rows × 2 columns</p>\n",
       "</div>"
      ],
      "text/plain": [
       "       num_ordemcs  cod_usina\n",
       "0            False      False\n",
       "1            False      False\n",
       "2            False      False\n",
       "3            False      False\n",
       "4            False      False\n",
       "...            ...        ...\n",
       "63160        False      False\n",
       "63161        False      False\n",
       "63162        False      False\n",
       "63163        False      False\n",
       "63164        False      False\n",
       "\n",
       "[63165 rows x 2 columns]"
      ]
     },
     "execution_count": 112,
     "metadata": {},
     "output_type": "execute_result"
    }
   ],
   "source": [
    "#Comparing if objects are equivalent\n",
    "\n",
    "df_slice1 == df_slice3 + df_slice3"
   ]
  },
  {
   "cell_type": "code",
   "execution_count": null,
   "metadata": {},
   "outputs": [
    {
     "data": {
      "application/vnd.microsoft.datawrangler.viewer.v0+json": {
       "columns": [
        {
         "name": "index",
         "rawType": "int64",
         "type": "integer"
        },
        {
         "name": "cod_usina",
         "rawType": "float64",
         "type": "float"
        },
        {
         "name": "num_ordemcs",
         "rawType": "float64",
         "type": "float"
        },
        {
         "name": "val_niveljusante",
         "rawType": "float64",
         "type": "float"
        },
        {
         "name": "val_volumeutilcon",
         "rawType": "float64",
         "type": "float"
        }
       ],
       "conversionMethod": "pd.DataFrame",
       "ref": "4f3ac96b-d9d7-4f2f-8bd0-e61e487359a0",
       "rows": [
        [
         "0",
         "154.0",
         "68.0",
         "27.190000534057617",
         "13.0"
        ],
        [
         "1",
         "189.0",
         "109.0",
         "3.2899999618530273",
         "63.65999984741211"
        ],
        [
         "2",
         "190.0",
         "110.0",
         "258.8800048828125",
         "21.600000381469727"
        ],
        [
         "3",
         "169.0",
         "180.0",
         "361.79998779296875",
         "51.560001373291016"
        ],
        [
         "4",
         "172.0",
         "181.0",
         "251.50999450683594",
         "47.0"
        ],
        [
         "5",
         "173.0",
         "182.0",
         "230.2100067138672",
         "83.7300033569336"
        ],
        [
         "6",
         "174.0",
         "183.0",
         "143.3000030517578",
         "93.87999725341797"
        ],
        [
         "7",
         "175.0",
         "184.0",
         "139.97000122070312",
         "76.08000183105469"
        ],
        [
         "8",
         "178.0",
         "185.0",
         "15.130000114440918",
         "58.540000915527344"
        ],
        [
         "9",
         "204.0",
         "1.0",
         "42.15999984741211",
         "100.0"
        ],
        [
         "10",
         "280.0",
         "2.0",
         "21.8799991607666",
         "98.8499984741211"
        ],
        [
         "11",
         "284.0",
         "3.0",
         "2.359999895095825",
         "58.0"
        ],
        [
         "12",
         "277.0",
         "10.0",
         "25.290000915527344",
         "22.84000015258789"
        ],
        [
         "13",
         "309.0",
         "11.0",
         null,
         null
        ],
        [
         "14",
         "272.0",
         "16.0",
         "10.600000381469727",
         "14.9399995803833"
        ],
        [
         "15",
         "286.0",
         "17.0",
         "2.069999933242798",
         "47.38999938964844"
        ],
        [
         "16",
         "288.0",
         "18.0",
         "2.680000066757202",
         "-42.97999954223633"
        ],
        [
         "17",
         "314.0",
         "19.0",
         "82.83000183105469",
         "-690.9199829101562"
        ],
        [
         "18",
         "267.0",
         "218.0",
         "131.32000732421875",
         "54.13999938964844"
        ],
        [
         "19",
         "275.0",
         "219.0",
         "5.0",
         "16.280000686645508"
        ],
        [
         "20",
         "225.0",
         null,
         "221.0399932861328",
         null
        ],
        [
         "21",
         "44.0",
         null,
         null,
         "60.959999084472656"
        ],
        [
         "22",
         "0.0",
         null,
         null,
         null
        ],
        [
         "23",
         null,
         null,
         "490.6300048828125",
         "39.36000061035156"
        ],
        [
         "24",
         "196.0",
         "4.0",
         "304.2300109863281",
         "87.80000305175781"
        ],
        [
         "25",
         "285.0",
         "5.0",
         "71.81999969482422",
         "52.5"
        ],
        [
         "26",
         "287.0",
         "6.0",
         "50.900001525878906",
         "38.290000915527344"
        ],
        [
         "27",
         "279.0",
         "7.0",
         "53.38999938964844",
         "-5.110000133514404"
        ],
        [
         "28",
         "276.0",
         "8.0",
         "204.5",
         "3.630000114440918"
        ],
        [
         "29",
         "310.0",
         "9.0",
         "112.94999694824219",
         "13.0600004196167"
        ],
        [
         "30",
         "227.0",
         "12.0",
         "271.82000732421875",
         "18.809999465942383"
        ],
        [
         "31",
         "228.0",
         "13.0",
         "248.6699981689453",
         "60.0"
        ],
        [
         "32",
         "229.0",
         "14.0",
         "161.55999755859375",
         "114.62999725341797"
        ],
        [
         "33",
         "230.0",
         "15.0",
         "132.1300048828125",
         "102.12999725341797"
        ],
        [
         "34",
         "139.0",
         "23.0",
         "278.4100036621094",
         "67.25"
        ],
        [
         "35",
         "192.0",
         "24.0",
         "377.2900085449219",
         "85.3499984741211"
        ],
        [
         "36",
         "193.0",
         "25.0",
         "257.4100036621094",
         "121.20999908447266"
        ],
        [
         "37",
         "193.0",
         "26.0",
         null,
         null
        ],
        [
         "38",
         "134.0",
         "27.0",
         null,
         "50.720001220703125"
        ],
        [
         "39",
         "135.0",
         "28.0",
         "205.5800018310547",
         "76.08999633789062"
        ],
        [
         "40",
         "141.0",
         "29.0",
         "165.47000122070312",
         "64.33999633789062"
        ],
        [
         "41",
         "143.0",
         "30.0",
         "60.93000030517578",
         "50.81999969482422"
        ],
        [
         "42",
         "144.0",
         "31.0",
         "38.68000030517578",
         "67.08000183105469"
        ],
        [
         "43",
         "1.0",
         "32.0",
         "885.780029296875",
         "55.290000915527344"
        ],
        [
         "44",
         "2.0",
         "33.0",
         "856.6400146484375",
         "96.0999984741211"
        ],
        [
         "45",
         "4.0",
         "34.0",
         "766.5399780273438",
         "85.0199966430664"
        ],
        [
         "46",
         "6.0",
         "35.0",
         "669.530029296875",
         "71.80000305175781"
        ],
        [
         "47",
         "7.0",
         "36.0",
         "620.6099853515625",
         "82.12000274658203"
        ],
        [
         "48",
         "8.0",
         "37.0",
         "557.739990234375",
         "43.689998626708984"
        ],
        [
         "49",
         "9.0",
         "38.0",
         "513.1099853515625",
         "54.66999816894531"
        ]
       ],
       "shape": {
        "columns": 4,
        "rows": 63165
       }
      },
      "text/html": [
       "<div>\n",
       "<style scoped>\n",
       "    .dataframe tbody tr th:only-of-type {\n",
       "        vertical-align: middle;\n",
       "    }\n",
       "\n",
       "    .dataframe tbody tr th {\n",
       "        vertical-align: top;\n",
       "    }\n",
       "\n",
       "    .dataframe thead th {\n",
       "        text-align: right;\n",
       "    }\n",
       "</style>\n",
       "<table border=\"1\" class=\"dataframe\">\n",
       "  <thead>\n",
       "    <tr style=\"text-align: right;\">\n",
       "      <th></th>\n",
       "      <th>cod_usina</th>\n",
       "      <th>num_ordemcs</th>\n",
       "      <th>val_niveljusante</th>\n",
       "      <th>val_volumeutilcon</th>\n",
       "    </tr>\n",
       "  </thead>\n",
       "  <tbody>\n",
       "    <tr>\n",
       "      <th>0</th>\n",
       "      <td>154.0</td>\n",
       "      <td>68.0</td>\n",
       "      <td>27.190001</td>\n",
       "      <td>13.000000</td>\n",
       "    </tr>\n",
       "    <tr>\n",
       "      <th>1</th>\n",
       "      <td>189.0</td>\n",
       "      <td>109.0</td>\n",
       "      <td>3.290000</td>\n",
       "      <td>63.660000</td>\n",
       "    </tr>\n",
       "    <tr>\n",
       "      <th>2</th>\n",
       "      <td>190.0</td>\n",
       "      <td>110.0</td>\n",
       "      <td>258.880005</td>\n",
       "      <td>21.600000</td>\n",
       "    </tr>\n",
       "    <tr>\n",
       "      <th>3</th>\n",
       "      <td>169.0</td>\n",
       "      <td>180.0</td>\n",
       "      <td>361.799988</td>\n",
       "      <td>51.560001</td>\n",
       "    </tr>\n",
       "    <tr>\n",
       "      <th>4</th>\n",
       "      <td>172.0</td>\n",
       "      <td>181.0</td>\n",
       "      <td>251.509995</td>\n",
       "      <td>47.000000</td>\n",
       "    </tr>\n",
       "    <tr>\n",
       "      <th>...</th>\n",
       "      <td>...</td>\n",
       "      <td>...</td>\n",
       "      <td>...</td>\n",
       "      <td>...</td>\n",
       "    </tr>\n",
       "    <tr>\n",
       "      <th>63160</th>\n",
       "      <td>94.0</td>\n",
       "      <td>172.0</td>\n",
       "      <td>264.589996</td>\n",
       "      <td>47.049999</td>\n",
       "    </tr>\n",
       "    <tr>\n",
       "      <th>63161</th>\n",
       "      <td>103.0</td>\n",
       "      <td>173.0</td>\n",
       "      <td>211.440002</td>\n",
       "      <td>49.639999</td>\n",
       "    </tr>\n",
       "    <tr>\n",
       "      <th>63162</th>\n",
       "      <td>95.0</td>\n",
       "      <td>174.0</td>\n",
       "      <td>426.799988</td>\n",
       "      <td>84.120003</td>\n",
       "    </tr>\n",
       "    <tr>\n",
       "      <th>63163</th>\n",
       "      <td>101.0</td>\n",
       "      <td>175.0</td>\n",
       "      <td>131.330002</td>\n",
       "      <td>53.000000</td>\n",
       "    </tr>\n",
       "    <tr>\n",
       "      <th>63164</th>\n",
       "      <td>102.0</td>\n",
       "      <td>176.0</td>\n",
       "      <td>98.650002</td>\n",
       "      <td>52.919998</td>\n",
       "    </tr>\n",
       "  </tbody>\n",
       "</table>\n",
       "<p>63165 rows × 4 columns</p>\n",
       "</div>"
      ],
      "text/plain": [
       "       cod_usina  num_ordemcs  val_niveljusante  val_volumeutilcon\n",
       "0          154.0         68.0         27.190001          13.000000\n",
       "1          189.0        109.0          3.290000          63.660000\n",
       "2          190.0        110.0        258.880005          21.600000\n",
       "3          169.0        180.0        361.799988          51.560001\n",
       "4          172.0        181.0        251.509995          47.000000\n",
       "...          ...          ...               ...                ...\n",
       "63160       94.0        172.0        264.589996          47.049999\n",
       "63161      103.0        173.0        211.440002          49.639999\n",
       "63162       95.0        174.0        426.799988          84.120003\n",
       "63163      101.0        175.0        131.330002          53.000000\n",
       "63164      102.0        176.0         98.650002          52.919998\n",
       "\n",
       "[63165 rows x 4 columns]"
      ]
     },
     "execution_count": 113,
     "metadata": {},
     "output_type": "execute_result"
    }
   ],
   "source": [
    "#Combining different dfs\n",
    "df_slice3.combine_first(df_slice2)"
   ]
  },
  {
   "cell_type": "code",
   "execution_count": 115,
   "metadata": {},
   "outputs": [
    {
     "data": {
      "text/plain": [
       "val_niveljusante     327.862175\n",
       "val_volumeutilcon     62.515563\n",
       "dtype: float64"
      ]
     },
     "execution_count": 115,
     "metadata": {},
     "output_type": "execute_result"
    }
   ],
   "source": [
    "df_slice2.mean()"
   ]
  },
  {
   "cell_type": "code",
   "execution_count": 117,
   "metadata": {},
   "outputs": [
    {
     "data": {
      "text/plain": [
       "0         20.095000\n",
       "1         33.475000\n",
       "2        140.240003\n",
       "3        206.679995\n",
       "4        149.254997\n",
       "            ...    \n",
       "63160    155.819998\n",
       "63161    130.540001\n",
       "63162    255.459995\n",
       "63163     92.165001\n",
       "63164     75.785000\n",
       "Length: 63165, dtype: float64"
      ]
     },
     "execution_count": 117,
     "metadata": {},
     "output_type": "execute_result"
    }
   ],
   "source": [
    "df_slice2.mean(1)"
   ]
  },
  {
   "cell_type": "code",
   "execution_count": 118,
   "metadata": {},
   "outputs": [
    {
     "data": {
      "application/vnd.microsoft.datawrangler.viewer.v0+json": {
       "columns": [
        {
         "name": "index",
         "rawType": "int64",
         "type": "integer"
        },
        {
         "name": "val_niveljusante",
         "rawType": "float64",
         "type": "float"
        },
        {
         "name": "val_volumeutilcon",
         "rawType": "float64",
         "type": "float"
        }
       ],
       "conversionMethod": "pd.DataFrame",
       "ref": "030f61c6-d923-4981-ad83-e63e9bd17197",
       "rows": [
        [
         "0",
         "27.190000534057617",
         "13.0"
        ],
        [
         "1",
         "30.480000495910645",
         "76.65999984741211"
        ],
        [
         "2",
         "289.36000537872314",
         "98.26000022888184"
        ],
        [
         "3",
         "651.1599931716919",
         "149.82000160217285"
        ],
        [
         "4",
         "902.6699876785278",
         "196.82000160217285"
        ],
        [
         "5",
         "1132.879994392395",
         "280.55000495910645"
        ],
        [
         "6",
         "1276.1799974441528",
         "374.4300022125244"
        ],
        [
         "7",
         "1416.149998664856",
         "450.5100040435791"
        ],
        [
         "8",
         "1431.2799987792969",
         "509.05000495910645"
        ],
        [
         "9",
         "1473.439998626709",
         "609.0500049591064"
        ],
        [
         "10",
         "1495.3199977874756",
         "707.9000034332275"
        ],
        [
         "11",
         "1497.6799976825714",
         "765.9000034332275"
        ],
        [
         "12",
         "1522.9699985980988",
         "788.7400035858154"
        ],
        [
         "13",
         null,
         null
        ],
        [
         "14",
         "1533.5699989795685",
         "803.6800031661987"
        ],
        [
         "15",
         "1535.6399989128113",
         "851.0700025558472"
        ],
        [
         "16",
         "1538.3199989795685",
         "808.0900030136108"
        ],
        [
         "17",
         "1621.1500008106232",
         "117.17002010345459"
        ],
        [
         "18",
         "1752.470008134842",
         "171.31001949310303"
        ],
        [
         "19",
         "1757.470008134842",
         "187.59002017974854"
        ],
        [
         "20",
         "1978.5100014209747",
         null
        ],
        [
         "21",
         null,
         "248.5500192642212"
        ],
        [
         "22",
         null,
         null
        ],
        [
         "23",
         "2469.1400063037872",
         "287.91001987457275"
        ],
        [
         "24",
         "2773.3700172901154",
         "375.71002292633057"
        ],
        [
         "25",
         "2845.1900169849396",
         "428.21002292633057"
        ],
        [
         "26",
         "2896.0900185108185",
         "466.5000238418579"
        ],
        [
         "27",
         "2949.480017900467",
         "461.3900237083435"
        ],
        [
         "28",
         "3153.980017900467",
         "465.0200238227844"
        ],
        [
         "29",
         "3266.930014848709",
         "478.0800242424011"
        ],
        [
         "30",
         "3538.750022172928",
         "496.8900237083435"
        ],
        [
         "31",
         "3787.420020341873",
         "556.8900237083435"
        ],
        [
         "32",
         "3948.980017900467",
         "671.5200209617615"
        ],
        [
         "33",
         "4081.1100227832794",
         "773.6500182151794"
        ],
        [
         "34",
         "4359.520026445389",
         "840.9000182151794"
        ],
        [
         "35",
         "4736.810034990311",
         "926.2500166893005"
        ],
        [
         "36",
         "4994.22003865242",
         "1047.4600157737732"
        ],
        [
         "37",
         null,
         null
        ],
        [
         "38",
         null,
         "1098.1800169944763"
        ],
        [
         "39",
         "5199.800040483475",
         "1174.270013332367"
        ],
        [
         "40",
         "5365.270041704178",
         "1238.6100096702576"
        ],
        [
         "41",
         "5426.200042009354",
         "1289.4300093650818"
        ],
        [
         "42",
         "5464.880042314529",
         "1356.5100111961365"
        ],
        [
         "43",
         "6350.660071611404",
         "1411.8000121116638"
        ],
        [
         "44",
         "7207.300086259842",
         "1507.900010585785"
        ],
        [
         "45",
         "7973.840064287186",
         "1592.9200072288513"
        ],
        [
         "46",
         "8643.37009358406",
         "1664.7200102806091"
        ],
        [
         "47",
         "9263.980078935623",
         "1746.8400130271912"
        ],
        [
         "48",
         "9821.720069169998",
         "1790.5300116539001"
        ],
        [
         "49",
         "10334.83005452156",
         "1845.2000098228455"
        ]
       ],
       "shape": {
        "columns": 2,
        "rows": 63165
       }
      },
      "text/html": [
       "<div>\n",
       "<style scoped>\n",
       "    .dataframe tbody tr th:only-of-type {\n",
       "        vertical-align: middle;\n",
       "    }\n",
       "\n",
       "    .dataframe tbody tr th {\n",
       "        vertical-align: top;\n",
       "    }\n",
       "\n",
       "    .dataframe thead th {\n",
       "        text-align: right;\n",
       "    }\n",
       "</style>\n",
       "<table border=\"1\" class=\"dataframe\">\n",
       "  <thead>\n",
       "    <tr style=\"text-align: right;\">\n",
       "      <th></th>\n",
       "      <th>val_niveljusante</th>\n",
       "      <th>val_volumeutilcon</th>\n",
       "    </tr>\n",
       "  </thead>\n",
       "  <tbody>\n",
       "    <tr>\n",
       "      <th>0</th>\n",
       "      <td>2.719000e+01</td>\n",
       "      <td>1.300000e+01</td>\n",
       "    </tr>\n",
       "    <tr>\n",
       "      <th>1</th>\n",
       "      <td>3.048000e+01</td>\n",
       "      <td>7.666000e+01</td>\n",
       "    </tr>\n",
       "    <tr>\n",
       "      <th>2</th>\n",
       "      <td>2.893600e+02</td>\n",
       "      <td>9.826000e+01</td>\n",
       "    </tr>\n",
       "    <tr>\n",
       "      <th>3</th>\n",
       "      <td>6.511600e+02</td>\n",
       "      <td>1.498200e+02</td>\n",
       "    </tr>\n",
       "    <tr>\n",
       "      <th>4</th>\n",
       "      <td>9.026700e+02</td>\n",
       "      <td>1.968200e+02</td>\n",
       "    </tr>\n",
       "    <tr>\n",
       "      <th>...</th>\n",
       "      <td>...</td>\n",
       "      <td>...</td>\n",
       "    </tr>\n",
       "    <tr>\n",
       "      <th>63160</th>\n",
       "      <td>1.890334e+07</td>\n",
       "      <td>3.784515e+06</td>\n",
       "    </tr>\n",
       "    <tr>\n",
       "      <th>63161</th>\n",
       "      <td>1.890355e+07</td>\n",
       "      <td>3.784565e+06</td>\n",
       "    </tr>\n",
       "    <tr>\n",
       "      <th>63162</th>\n",
       "      <td>1.890398e+07</td>\n",
       "      <td>3.784649e+06</td>\n",
       "    </tr>\n",
       "    <tr>\n",
       "      <th>63163</th>\n",
       "      <td>1.890411e+07</td>\n",
       "      <td>3.784702e+06</td>\n",
       "    </tr>\n",
       "    <tr>\n",
       "      <th>63164</th>\n",
       "      <td>1.890421e+07</td>\n",
       "      <td>3.784755e+06</td>\n",
       "    </tr>\n",
       "  </tbody>\n",
       "</table>\n",
       "<p>63165 rows × 2 columns</p>\n",
       "</div>"
      ],
      "text/plain": [
       "       val_niveljusante  val_volumeutilcon\n",
       "0          2.719000e+01       1.300000e+01\n",
       "1          3.048000e+01       7.666000e+01\n",
       "2          2.893600e+02       9.826000e+01\n",
       "3          6.511600e+02       1.498200e+02\n",
       "4          9.026700e+02       1.968200e+02\n",
       "...                 ...                ...\n",
       "63160      1.890334e+07       3.784515e+06\n",
       "63161      1.890355e+07       3.784565e+06\n",
       "63162      1.890398e+07       3.784649e+06\n",
       "63163      1.890411e+07       3.784702e+06\n",
       "63164      1.890421e+07       3.784755e+06\n",
       "\n",
       "[63165 rows x 2 columns]"
      ]
     },
     "execution_count": 118,
     "metadata": {},
     "output_type": "execute_result"
    }
   ],
   "source": [
    "df_slice2.cumsum()"
   ]
  },
  {
   "cell_type": "code",
   "execution_count": 119,
   "metadata": {},
   "outputs": [
    {
     "data": {
      "text/plain": [
       "val_niveljusante     18201\n",
       "val_volumeutilcon     9818\n",
       "dtype: int64"
      ]
     },
     "execution_count": 119,
     "metadata": {},
     "output_type": "execute_result"
    }
   ],
   "source": [
    "df_slice2.nunique()"
   ]
  },
  {
   "cell_type": "code",
   "execution_count": 124,
   "metadata": {},
   "outputs": [
    {
     "data": {
      "text/plain": [
       "array(['NORDESTE', 'MANAUS-AMAPA', nan, 'BELO MONTE', 'NORTE', 'PARANA',\n",
       "       'MADEIRA', 'TELES PIRES', 'SUDESTE', 'PARANAPANEMA', 'ITAIPU',\n",
       "       'SUL', 'IGUACU'], dtype=object)"
      ]
     },
     "execution_count": 124,
     "metadata": {},
     "output_type": "execute_result"
    }
   ],
   "source": [
    "#All unique str\n",
    "res['nom_ree'].unique()"
   ]
  },
  {
   "cell_type": "code",
   "execution_count": null,
   "metadata": {},
   "outputs": [
    {
     "data": {
      "text/plain": [
       "12"
      ]
     },
     "execution_count": 120,
     "metadata": {},
     "output_type": "execute_result"
    }
   ],
   "source": [
    "#Amount of unique values\n",
    "res['nom_ree'].nunique() "
   ]
  },
  {
   "cell_type": "code",
   "execution_count": 125,
   "metadata": {},
   "outputs": [
    {
     "data": {
      "application/vnd.microsoft.datawrangler.viewer.v0+json": {
       "columns": [
        {
         "name": "index",
         "rawType": "object",
         "type": "string"
        },
        {
         "name": "num_ordemcs",
         "rawType": "float64",
         "type": "float"
        },
        {
         "name": "cod_usina",
         "rawType": "float64",
         "type": "float"
        },
        {
         "name": "din_instante",
         "rawType": "object",
         "type": "unknown"
        },
        {
         "name": "val_nivelmontante",
         "rawType": "float64",
         "type": "float"
        },
        {
         "name": "val_niveljusante",
         "rawType": "float64",
         "type": "float"
        },
        {
         "name": "val_volumeutilcon",
         "rawType": "float64",
         "type": "float"
        },
        {
         "name": "val_vazaoafluente",
         "rawType": "float64",
         "type": "float"
        },
        {
         "name": "val_vazaoturbinada",
         "rawType": "float64",
         "type": "float"
        },
        {
         "name": "val_vazaovertida",
         "rawType": "float64",
         "type": "float"
        },
        {
         "name": "val_vazaooutrasestruturas",
         "rawType": "float64",
         "type": "float"
        },
        {
         "name": "val_vazaodefluente",
         "rawType": "float64",
         "type": "float"
        },
        {
         "name": "val_vazaotransferida",
         "rawType": "float64",
         "type": "float"
        },
        {
         "name": "val_vazaonatural",
         "rawType": "float64",
         "type": "float"
        },
        {
         "name": "val_vazaoartificial",
         "rawType": "float64",
         "type": "float"
        },
        {
         "name": "val_vazaoincremental",
         "rawType": "float64",
         "type": "float"
        },
        {
         "name": "val_vazaoevaporacaoliquida",
         "rawType": "float64",
         "type": "float"
        },
        {
         "name": "val_vazaousoconsuntivo",
         "rawType": "float64",
         "type": "float"
        },
        {
         "name": "val_vazaoincrementalbruta",
         "rawType": "float64",
         "type": "float"
        }
       ],
       "conversionMethod": "pd.DataFrame",
       "ref": "98aeed56-1319-4059-96cc-6310d539c19a",
       "rows": [
        [
         "count",
         "61701.0",
         "61854.0",
         "63165",
         "62347.0",
         "57659.0",
         "60541.0",
         "62710.0",
         "59111.0",
         "62020.0",
         "40006.0",
         "62348.0",
         "29786.0",
         "61854.0",
         "8784.0",
         "60524.0",
         "56981.0",
         "56761.0",
         "59481.0"
        ],
        [
         "mean",
         "103.18656099576992",
         "133.20710059171597",
         "2024-07-01 23:56:10.201852160",
         "410.36659053723133",
         "327.86217489248384",
         "62.515562861795885",
         "761.8515075092889",
         "713.4588171642672",
         "80.48563994035072",
         "6.294040893868304",
         "760.3856889684564",
         "54.03355137812621",
         "784.3332029005443",
         "1094.8321026512617",
         "283.38686297509275",
         "3.2745745044433714",
         "20.480045938341107",
         "278.9367233234083"
        ],
        [
         "min",
         "1.0",
         "0.0",
         "2024-01-01 00:00:00",
         "-146.4600067138672",
         "-16451.080078125",
         "-1703.8599853515625",
         "-726.0",
         "0.0",
         "0.0",
         "0.0",
         "0.0",
         "-726.0",
         "0.0",
         "0.0",
         "-71.99700164794922",
         "-22.33099937438965",
         "0.0",
         "-1116.300048828125"
        ],
        [
         "25%",
         "45.0",
         "51.0",
         "2024-04-01 00:00:00",
         "254.3499984741211",
         "149.12999725341797",
         "49.68000030517578",
         "60.0",
         "64.0",
         "0.0",
         "0.0",
         "69.0",
         "0.0",
         "56.939998626708984",
         "81.71500015258789",
         "10.100000381469727",
         "0.0010000000474974513",
         "0.41999998688697815",
         "11.260000228881836"
        ],
        [
         "50%",
         "98.0",
         "119.0",
         "2024-07-02 00:00:00",
         "387.489990234375",
         "325.75",
         "70.7699966430664",
         "182.14500427246094",
         "188.0",
         "0.0",
         "0.0",
         "188.0",
         "0.0",
         "178.02999877929688",
         "183.61499786376953",
         "47.939998626708984",
         "0.24300000071525574",
         "3.0",
         "51.459999084472656"
        ],
        [
         "75%",
         "162.0",
         "195.0",
         "2024-10-02 00:00:00",
         "572.989990234375",
         "490.1400146484375",
         "89.45999908447266",
         "696.3574981689453",
         "679.0",
         "0.0",
         "1.0",
         "699.0",
         "0.0",
         "603.5999755859375",
         "717.4050140380859",
         "143.99250411987305",
         "1.7430000305175781",
         "11.575799942016602",
         "147.77099609375"
        ],
        [
         "max",
         "219.0",
         "315.0",
         "2024-12-31 00:00:00",
         "912.9600219726562",
         "3960.260009765625",
         "997.0900268554688",
         "33615.16015625",
         "26105.0",
         "14204.0",
         "1175.0",
         "33648.6015625",
         "11658.0302734375",
         "33311.12890625",
         "18915.970703125",
         "32826.01953125",
         "262.0039978027344",
         "458.1499938964844",
         "33200.37890625"
        ],
        [
         "std",
         "63.25846283207075",
         "91.90298552289916",
         null,
         "221.270284570067",
         "221.51017517255895",
         "79.53025428725616",
         "2091.6485118286582",
         "1831.0108763470848",
         "519.8315009684936",
         "42.2011396168519",
         "2035.7304225725336",
         "510.5804112058345",
         "2187.3929420839104",
         "2214.4292073053684",
         "1434.205534967583",
         "16.25834264746544",
         "49.357194590086834",
         "1446.1516648185789"
        ]
       ],
       "shape": {
        "columns": 18,
        "rows": 8
       }
      },
      "text/html": [
       "<div>\n",
       "<style scoped>\n",
       "    .dataframe tbody tr th:only-of-type {\n",
       "        vertical-align: middle;\n",
       "    }\n",
       "\n",
       "    .dataframe tbody tr th {\n",
       "        vertical-align: top;\n",
       "    }\n",
       "\n",
       "    .dataframe thead th {\n",
       "        text-align: right;\n",
       "    }\n",
       "</style>\n",
       "<table border=\"1\" class=\"dataframe\">\n",
       "  <thead>\n",
       "    <tr style=\"text-align: right;\">\n",
       "      <th></th>\n",
       "      <th>num_ordemcs</th>\n",
       "      <th>cod_usina</th>\n",
       "      <th>din_instante</th>\n",
       "      <th>val_nivelmontante</th>\n",
       "      <th>val_niveljusante</th>\n",
       "      <th>val_volumeutilcon</th>\n",
       "      <th>val_vazaoafluente</th>\n",
       "      <th>val_vazaoturbinada</th>\n",
       "      <th>val_vazaovertida</th>\n",
       "      <th>val_vazaooutrasestruturas</th>\n",
       "      <th>val_vazaodefluente</th>\n",
       "      <th>val_vazaotransferida</th>\n",
       "      <th>val_vazaonatural</th>\n",
       "      <th>val_vazaoartificial</th>\n",
       "      <th>val_vazaoincremental</th>\n",
       "      <th>val_vazaoevaporacaoliquida</th>\n",
       "      <th>val_vazaousoconsuntivo</th>\n",
       "      <th>val_vazaoincrementalbruta</th>\n",
       "    </tr>\n",
       "  </thead>\n",
       "  <tbody>\n",
       "    <tr>\n",
       "      <th>count</th>\n",
       "      <td>61701.000000</td>\n",
       "      <td>61854.000000</td>\n",
       "      <td>63165</td>\n",
       "      <td>62347.000000</td>\n",
       "      <td>57659.000000</td>\n",
       "      <td>60541.000000</td>\n",
       "      <td>62710.000000</td>\n",
       "      <td>59111.000000</td>\n",
       "      <td>62020.000000</td>\n",
       "      <td>40006.000000</td>\n",
       "      <td>62348.000000</td>\n",
       "      <td>29786.000000</td>\n",
       "      <td>61854.000000</td>\n",
       "      <td>8784.000000</td>\n",
       "      <td>60524.000000</td>\n",
       "      <td>56981.000000</td>\n",
       "      <td>56761.000000</td>\n",
       "      <td>59481.000000</td>\n",
       "    </tr>\n",
       "    <tr>\n",
       "      <th>mean</th>\n",
       "      <td>103.186561</td>\n",
       "      <td>133.207101</td>\n",
       "      <td>2024-07-01 23:56:10.201852160</td>\n",
       "      <td>410.366591</td>\n",
       "      <td>327.862175</td>\n",
       "      <td>62.515563</td>\n",
       "      <td>761.851508</td>\n",
       "      <td>713.458817</td>\n",
       "      <td>80.485640</td>\n",
       "      <td>6.294041</td>\n",
       "      <td>760.385689</td>\n",
       "      <td>54.033551</td>\n",
       "      <td>784.333203</td>\n",
       "      <td>1094.832103</td>\n",
       "      <td>283.386863</td>\n",
       "      <td>3.274575</td>\n",
       "      <td>20.480046</td>\n",
       "      <td>278.936723</td>\n",
       "    </tr>\n",
       "    <tr>\n",
       "      <th>min</th>\n",
       "      <td>1.000000</td>\n",
       "      <td>0.000000</td>\n",
       "      <td>2024-01-01 00:00:00</td>\n",
       "      <td>-146.460007</td>\n",
       "      <td>-16451.080078</td>\n",
       "      <td>-1703.859985</td>\n",
       "      <td>-726.000000</td>\n",
       "      <td>0.000000</td>\n",
       "      <td>0.000000</td>\n",
       "      <td>0.000000</td>\n",
       "      <td>0.000000</td>\n",
       "      <td>-726.000000</td>\n",
       "      <td>0.000000</td>\n",
       "      <td>0.000000</td>\n",
       "      <td>-71.997002</td>\n",
       "      <td>-22.330999</td>\n",
       "      <td>0.000000</td>\n",
       "      <td>-1116.300049</td>\n",
       "    </tr>\n",
       "    <tr>\n",
       "      <th>25%</th>\n",
       "      <td>45.000000</td>\n",
       "      <td>51.000000</td>\n",
       "      <td>2024-04-01 00:00:00</td>\n",
       "      <td>254.349998</td>\n",
       "      <td>149.129997</td>\n",
       "      <td>49.680000</td>\n",
       "      <td>60.000000</td>\n",
       "      <td>64.000000</td>\n",
       "      <td>0.000000</td>\n",
       "      <td>0.000000</td>\n",
       "      <td>69.000000</td>\n",
       "      <td>0.000000</td>\n",
       "      <td>56.939999</td>\n",
       "      <td>81.715000</td>\n",
       "      <td>10.100000</td>\n",
       "      <td>0.001000</td>\n",
       "      <td>0.420000</td>\n",
       "      <td>11.260000</td>\n",
       "    </tr>\n",
       "    <tr>\n",
       "      <th>50%</th>\n",
       "      <td>98.000000</td>\n",
       "      <td>119.000000</td>\n",
       "      <td>2024-07-02 00:00:00</td>\n",
       "      <td>387.489990</td>\n",
       "      <td>325.750000</td>\n",
       "      <td>70.769997</td>\n",
       "      <td>182.145004</td>\n",
       "      <td>188.000000</td>\n",
       "      <td>0.000000</td>\n",
       "      <td>0.000000</td>\n",
       "      <td>188.000000</td>\n",
       "      <td>0.000000</td>\n",
       "      <td>178.029999</td>\n",
       "      <td>183.614998</td>\n",
       "      <td>47.939999</td>\n",
       "      <td>0.243000</td>\n",
       "      <td>3.000000</td>\n",
       "      <td>51.459999</td>\n",
       "    </tr>\n",
       "    <tr>\n",
       "      <th>75%</th>\n",
       "      <td>162.000000</td>\n",
       "      <td>195.000000</td>\n",
       "      <td>2024-10-02 00:00:00</td>\n",
       "      <td>572.989990</td>\n",
       "      <td>490.140015</td>\n",
       "      <td>89.459999</td>\n",
       "      <td>696.357498</td>\n",
       "      <td>679.000000</td>\n",
       "      <td>0.000000</td>\n",
       "      <td>1.000000</td>\n",
       "      <td>699.000000</td>\n",
       "      <td>0.000000</td>\n",
       "      <td>603.599976</td>\n",
       "      <td>717.405014</td>\n",
       "      <td>143.992504</td>\n",
       "      <td>1.743000</td>\n",
       "      <td>11.575800</td>\n",
       "      <td>147.770996</td>\n",
       "    </tr>\n",
       "    <tr>\n",
       "      <th>max</th>\n",
       "      <td>219.000000</td>\n",
       "      <td>315.000000</td>\n",
       "      <td>2024-12-31 00:00:00</td>\n",
       "      <td>912.960022</td>\n",
       "      <td>3960.260010</td>\n",
       "      <td>997.090027</td>\n",
       "      <td>33615.160156</td>\n",
       "      <td>26105.000000</td>\n",
       "      <td>14204.000000</td>\n",
       "      <td>1175.000000</td>\n",
       "      <td>33648.601562</td>\n",
       "      <td>11658.030273</td>\n",
       "      <td>33311.128906</td>\n",
       "      <td>18915.970703</td>\n",
       "      <td>32826.019531</td>\n",
       "      <td>262.003998</td>\n",
       "      <td>458.149994</td>\n",
       "      <td>33200.378906</td>\n",
       "    </tr>\n",
       "    <tr>\n",
       "      <th>std</th>\n",
       "      <td>63.258463</td>\n",
       "      <td>91.902986</td>\n",
       "      <td>NaN</td>\n",
       "      <td>221.270285</td>\n",
       "      <td>221.510175</td>\n",
       "      <td>79.530254</td>\n",
       "      <td>2091.648512</td>\n",
       "      <td>1831.010876</td>\n",
       "      <td>519.831501</td>\n",
       "      <td>42.201140</td>\n",
       "      <td>2035.730423</td>\n",
       "      <td>510.580411</td>\n",
       "      <td>2187.392942</td>\n",
       "      <td>2214.429207</td>\n",
       "      <td>1434.205535</td>\n",
       "      <td>16.258343</td>\n",
       "      <td>49.357195</td>\n",
       "      <td>1446.151665</td>\n",
       "    </tr>\n",
       "  </tbody>\n",
       "</table>\n",
       "</div>"
      ],
      "text/plain": [
       "        num_ordemcs     cod_usina                   din_instante  \\\n",
       "count  61701.000000  61854.000000                          63165   \n",
       "mean     103.186561    133.207101  2024-07-01 23:56:10.201852160   \n",
       "min        1.000000      0.000000            2024-01-01 00:00:00   \n",
       "25%       45.000000     51.000000            2024-04-01 00:00:00   \n",
       "50%       98.000000    119.000000            2024-07-02 00:00:00   \n",
       "75%      162.000000    195.000000            2024-10-02 00:00:00   \n",
       "max      219.000000    315.000000            2024-12-31 00:00:00   \n",
       "std       63.258463     91.902986                            NaN   \n",
       "\n",
       "       val_nivelmontante  val_niveljusante  val_volumeutilcon  \\\n",
       "count       62347.000000      57659.000000       60541.000000   \n",
       "mean          410.366591        327.862175          62.515563   \n",
       "min          -146.460007     -16451.080078       -1703.859985   \n",
       "25%           254.349998        149.129997          49.680000   \n",
       "50%           387.489990        325.750000          70.769997   \n",
       "75%           572.989990        490.140015          89.459999   \n",
       "max           912.960022       3960.260010         997.090027   \n",
       "std           221.270285        221.510175          79.530254   \n",
       "\n",
       "       val_vazaoafluente  val_vazaoturbinada  val_vazaovertida  \\\n",
       "count       62710.000000        59111.000000      62020.000000   \n",
       "mean          761.851508          713.458817         80.485640   \n",
       "min          -726.000000            0.000000          0.000000   \n",
       "25%            60.000000           64.000000          0.000000   \n",
       "50%           182.145004          188.000000          0.000000   \n",
       "75%           696.357498          679.000000          0.000000   \n",
       "max         33615.160156        26105.000000      14204.000000   \n",
       "std          2091.648512         1831.010876        519.831501   \n",
       "\n",
       "       val_vazaooutrasestruturas  val_vazaodefluente  val_vazaotransferida  \\\n",
       "count               40006.000000        62348.000000          29786.000000   \n",
       "mean                    6.294041          760.385689             54.033551   \n",
       "min                     0.000000            0.000000           -726.000000   \n",
       "25%                     0.000000           69.000000              0.000000   \n",
       "50%                     0.000000          188.000000              0.000000   \n",
       "75%                     1.000000          699.000000              0.000000   \n",
       "max                  1175.000000        33648.601562          11658.030273   \n",
       "std                    42.201140         2035.730423            510.580411   \n",
       "\n",
       "       val_vazaonatural  val_vazaoartificial  val_vazaoincremental  \\\n",
       "count      61854.000000          8784.000000          60524.000000   \n",
       "mean         784.333203          1094.832103            283.386863   \n",
       "min            0.000000             0.000000            -71.997002   \n",
       "25%           56.939999            81.715000             10.100000   \n",
       "50%          178.029999           183.614998             47.939999   \n",
       "75%          603.599976           717.405014            143.992504   \n",
       "max        33311.128906         18915.970703          32826.019531   \n",
       "std         2187.392942          2214.429207           1434.205535   \n",
       "\n",
       "       val_vazaoevaporacaoliquida  val_vazaousoconsuntivo  \\\n",
       "count                56981.000000            56761.000000   \n",
       "mean                     3.274575               20.480046   \n",
       "min                    -22.330999                0.000000   \n",
       "25%                      0.001000                0.420000   \n",
       "50%                      0.243000                3.000000   \n",
       "75%                      1.743000               11.575800   \n",
       "max                    262.003998              458.149994   \n",
       "std                     16.258343               49.357195   \n",
       "\n",
       "       val_vazaoincrementalbruta  \n",
       "count               59481.000000  \n",
       "mean                  278.936723  \n",
       "min                 -1116.300049  \n",
       "25%                    11.260000  \n",
       "50%                    51.459999  \n",
       "75%                   147.770996  \n",
       "max                 33200.378906  \n",
       "std                  1446.151665  "
      ]
     },
     "execution_count": 125,
     "metadata": {},
     "output_type": "execute_result"
    }
   ],
   "source": [
    "res.describe()"
   ]
  },
  {
   "cell_type": "code",
   "execution_count": 126,
   "metadata": {},
   "outputs": [
    {
     "data": {
      "application/vnd.microsoft.datawrangler.viewer.v0+json": {
       "columns": [
        {
         "name": "index",
         "rawType": "object",
         "type": "string"
        },
        {
         "name": "num_ordemcs",
         "rawType": "float64",
         "type": "float"
        },
        {
         "name": "cod_usina",
         "rawType": "float64",
         "type": "float"
        },
        {
         "name": "din_instante",
         "rawType": "object",
         "type": "unknown"
        },
        {
         "name": "val_nivelmontante",
         "rawType": "float64",
         "type": "float"
        },
        {
         "name": "val_niveljusante",
         "rawType": "float64",
         "type": "float"
        },
        {
         "name": "val_volumeutilcon",
         "rawType": "float64",
         "type": "float"
        },
        {
         "name": "val_vazaoafluente",
         "rawType": "float64",
         "type": "float"
        },
        {
         "name": "val_vazaoturbinada",
         "rawType": "float64",
         "type": "float"
        },
        {
         "name": "val_vazaovertida",
         "rawType": "float64",
         "type": "float"
        },
        {
         "name": "val_vazaooutrasestruturas",
         "rawType": "float64",
         "type": "float"
        },
        {
         "name": "val_vazaodefluente",
         "rawType": "float64",
         "type": "float"
        },
        {
         "name": "val_vazaotransferida",
         "rawType": "float64",
         "type": "float"
        },
        {
         "name": "val_vazaonatural",
         "rawType": "float64",
         "type": "float"
        },
        {
         "name": "val_vazaoartificial",
         "rawType": "float64",
         "type": "float"
        },
        {
         "name": "val_vazaoincremental",
         "rawType": "float64",
         "type": "float"
        },
        {
         "name": "val_vazaoevaporacaoliquida",
         "rawType": "float64",
         "type": "float"
        },
        {
         "name": "val_vazaousoconsuntivo",
         "rawType": "float64",
         "type": "float"
        },
        {
         "name": "val_vazaoincrementalbruta",
         "rawType": "float64",
         "type": "float"
        }
       ],
       "conversionMethod": "pd.DataFrame",
       "ref": "0901e43b-69d9-42d5-90eb-2c91e5a1a032",
       "rows": [
        [
         "count",
         "61701.0",
         "61854.0",
         "63165",
         "62347.0",
         "57659.0",
         "60541.0",
         "62710.0",
         "59111.0",
         "62020.0",
         "40006.0",
         "62348.0",
         "29786.0",
         "61854.0",
         "8784.0",
         "60524.0",
         "56981.0",
         "56761.0",
         "59481.0"
        ],
        [
         "mean",
         "103.18656099576992",
         "133.20710059171597",
         "2024-07-01 23:56:10.201852160",
         "410.36659053723133",
         "327.86217489248384",
         "62.515562861795885",
         "761.8515075092889",
         "713.4588171642672",
         "80.48563994035072",
         "6.294040893868304",
         "760.3856889684564",
         "54.03355137812621",
         "784.3332029005443",
         "1094.8321026512617",
         "283.38686297509275",
         "3.2745745044433714",
         "20.480045938341107",
         "278.9367233234083"
        ],
        [
         "min",
         "1.0",
         "0.0",
         "2024-01-01 00:00:00",
         "-146.4600067138672",
         "-16451.080078125",
         "-1703.8599853515625",
         "-726.0",
         "0.0",
         "0.0",
         "0.0",
         "0.0",
         "-726.0",
         "0.0",
         "0.0",
         "-71.99700164794922",
         "-22.33099937438965",
         "0.0",
         "-1116.300048828125"
        ],
        [
         "5%",
         "9.0",
         "10.0",
         "2024-01-19 00:00:00",
         "70.52999877929688",
         "15.73899974822998",
         "15.59000015258789",
         "7.0",
         "0.0",
         "0.0",
         "0.0",
         "10.0",
         "0.0",
         "4.690000057220459",
         "10.0",
         "0.0",
         "-0.5669999718666077",
         "0.03319999948143959",
         "-19.969999313354492"
        ],
        [
         "25%",
         "45.0",
         "51.0",
         "2024-04-01 00:00:00",
         "254.3499984741211",
         "149.12999725341797",
         "49.68000030517578",
         "60.0",
         "64.0",
         "0.0",
         "0.0",
         "69.0",
         "0.0",
         "56.939998626708984",
         "81.71500015258789",
         "10.100000381469727",
         "0.0010000000474974513",
         "0.41999998688697815",
         "11.260000228881836"
        ],
        [
         "50%",
         "98.0",
         "119.0",
         "2024-07-02 00:00:00",
         "387.489990234375",
         "325.75",
         "70.7699966430664",
         "182.14500427246094",
         "188.0",
         "0.0",
         "0.0",
         "188.0",
         "0.0",
         "178.02999877929688",
         "183.61499786376953",
         "47.939998626708984",
         "0.24300000071525574",
         "3.0",
         "51.459999084472656"
        ],
        [
         "75%",
         "162.0",
         "195.0",
         "2024-10-02 00:00:00",
         "572.989990234375",
         "490.1400146484375",
         "89.45999908447266",
         "696.3574981689453",
         "679.0",
         "0.0",
         "1.0",
         "699.0",
         "0.0",
         "603.5999755859375",
         "717.4050140380859",
         "143.99250411987305",
         "1.7430000305175781",
         "11.575799942016602",
         "147.77099609375"
        ],
        [
         "95%",
         "198.0",
         "290.0",
         "2024-12-13 00:00:00",
         "799.0999755859375",
         "706.9500122070312",
         "102.08999633789062",
         "3128.9830444335885",
         "2912.5",
         "278.0",
         "18.0",
         "3234.5999999999767",
         "130.0",
         "3165.39990234375",
         "6741.0022949218765",
         "856.82700805664",
         "13.798999786376953",
         "116.98999786376953",
         "825.1900024414062"
        ],
        [
         "max",
         "219.0",
         "315.0",
         "2024-12-31 00:00:00",
         "912.9600219726562",
         "3960.260009765625",
         "997.0900268554688",
         "33615.16015625",
         "26105.0",
         "14204.0",
         "1175.0",
         "33648.6015625",
         "11658.0302734375",
         "33311.12890625",
         "18915.970703125",
         "32826.01953125",
         "262.0039978027344",
         "458.1499938964844",
         "33200.37890625"
        ],
        [
         "std",
         "63.25846283207075",
         "91.90298552289916",
         null,
         "221.270284570067",
         "221.51017517255895",
         "79.53025428725616",
         "2091.6485118286582",
         "1831.0108763470848",
         "519.8315009684936",
         "42.2011396168519",
         "2035.7304225725336",
         "510.5804112058345",
         "2187.3929420839104",
         "2214.4292073053684",
         "1434.205534967583",
         "16.25834264746544",
         "49.357194590086834",
         "1446.1516648185789"
        ]
       ],
       "shape": {
        "columns": 18,
        "rows": 10
       }
      },
      "text/html": [
       "<div>\n",
       "<style scoped>\n",
       "    .dataframe tbody tr th:only-of-type {\n",
       "        vertical-align: middle;\n",
       "    }\n",
       "\n",
       "    .dataframe tbody tr th {\n",
       "        vertical-align: top;\n",
       "    }\n",
       "\n",
       "    .dataframe thead th {\n",
       "        text-align: right;\n",
       "    }\n",
       "</style>\n",
       "<table border=\"1\" class=\"dataframe\">\n",
       "  <thead>\n",
       "    <tr style=\"text-align: right;\">\n",
       "      <th></th>\n",
       "      <th>num_ordemcs</th>\n",
       "      <th>cod_usina</th>\n",
       "      <th>din_instante</th>\n",
       "      <th>val_nivelmontante</th>\n",
       "      <th>val_niveljusante</th>\n",
       "      <th>val_volumeutilcon</th>\n",
       "      <th>val_vazaoafluente</th>\n",
       "      <th>val_vazaoturbinada</th>\n",
       "      <th>val_vazaovertida</th>\n",
       "      <th>val_vazaooutrasestruturas</th>\n",
       "      <th>val_vazaodefluente</th>\n",
       "      <th>val_vazaotransferida</th>\n",
       "      <th>val_vazaonatural</th>\n",
       "      <th>val_vazaoartificial</th>\n",
       "      <th>val_vazaoincremental</th>\n",
       "      <th>val_vazaoevaporacaoliquida</th>\n",
       "      <th>val_vazaousoconsuntivo</th>\n",
       "      <th>val_vazaoincrementalbruta</th>\n",
       "    </tr>\n",
       "  </thead>\n",
       "  <tbody>\n",
       "    <tr>\n",
       "      <th>count</th>\n",
       "      <td>61701.000000</td>\n",
       "      <td>61854.000000</td>\n",
       "      <td>63165</td>\n",
       "      <td>62347.000000</td>\n",
       "      <td>57659.000000</td>\n",
       "      <td>60541.000000</td>\n",
       "      <td>62710.000000</td>\n",
       "      <td>59111.000000</td>\n",
       "      <td>62020.000000</td>\n",
       "      <td>40006.000000</td>\n",
       "      <td>62348.000000</td>\n",
       "      <td>29786.000000</td>\n",
       "      <td>61854.000000</td>\n",
       "      <td>8784.000000</td>\n",
       "      <td>60524.000000</td>\n",
       "      <td>56981.000000</td>\n",
       "      <td>56761.000000</td>\n",
       "      <td>59481.000000</td>\n",
       "    </tr>\n",
       "    <tr>\n",
       "      <th>mean</th>\n",
       "      <td>103.186561</td>\n",
       "      <td>133.207101</td>\n",
       "      <td>2024-07-01 23:56:10.201852160</td>\n",
       "      <td>410.366591</td>\n",
       "      <td>327.862175</td>\n",
       "      <td>62.515563</td>\n",
       "      <td>761.851508</td>\n",
       "      <td>713.458817</td>\n",
       "      <td>80.485640</td>\n",
       "      <td>6.294041</td>\n",
       "      <td>760.385689</td>\n",
       "      <td>54.033551</td>\n",
       "      <td>784.333203</td>\n",
       "      <td>1094.832103</td>\n",
       "      <td>283.386863</td>\n",
       "      <td>3.274575</td>\n",
       "      <td>20.480046</td>\n",
       "      <td>278.936723</td>\n",
       "    </tr>\n",
       "    <tr>\n",
       "      <th>min</th>\n",
       "      <td>1.000000</td>\n",
       "      <td>0.000000</td>\n",
       "      <td>2024-01-01 00:00:00</td>\n",
       "      <td>-146.460007</td>\n",
       "      <td>-16451.080078</td>\n",
       "      <td>-1703.859985</td>\n",
       "      <td>-726.000000</td>\n",
       "      <td>0.000000</td>\n",
       "      <td>0.000000</td>\n",
       "      <td>0.000000</td>\n",
       "      <td>0.000000</td>\n",
       "      <td>-726.000000</td>\n",
       "      <td>0.000000</td>\n",
       "      <td>0.000000</td>\n",
       "      <td>-71.997002</td>\n",
       "      <td>-22.330999</td>\n",
       "      <td>0.000000</td>\n",
       "      <td>-1116.300049</td>\n",
       "    </tr>\n",
       "    <tr>\n",
       "      <th>5%</th>\n",
       "      <td>9.000000</td>\n",
       "      <td>10.000000</td>\n",
       "      <td>2024-01-19 00:00:00</td>\n",
       "      <td>70.529999</td>\n",
       "      <td>15.739000</td>\n",
       "      <td>15.590000</td>\n",
       "      <td>7.000000</td>\n",
       "      <td>0.000000</td>\n",
       "      <td>0.000000</td>\n",
       "      <td>0.000000</td>\n",
       "      <td>10.000000</td>\n",
       "      <td>0.000000</td>\n",
       "      <td>4.690000</td>\n",
       "      <td>10.000000</td>\n",
       "      <td>0.000000</td>\n",
       "      <td>-0.567000</td>\n",
       "      <td>0.033200</td>\n",
       "      <td>-19.969999</td>\n",
       "    </tr>\n",
       "    <tr>\n",
       "      <th>25%</th>\n",
       "      <td>45.000000</td>\n",
       "      <td>51.000000</td>\n",
       "      <td>2024-04-01 00:00:00</td>\n",
       "      <td>254.349998</td>\n",
       "      <td>149.129997</td>\n",
       "      <td>49.680000</td>\n",
       "      <td>60.000000</td>\n",
       "      <td>64.000000</td>\n",
       "      <td>0.000000</td>\n",
       "      <td>0.000000</td>\n",
       "      <td>69.000000</td>\n",
       "      <td>0.000000</td>\n",
       "      <td>56.939999</td>\n",
       "      <td>81.715000</td>\n",
       "      <td>10.100000</td>\n",
       "      <td>0.001000</td>\n",
       "      <td>0.420000</td>\n",
       "      <td>11.260000</td>\n",
       "    </tr>\n",
       "    <tr>\n",
       "      <th>50%</th>\n",
       "      <td>98.000000</td>\n",
       "      <td>119.000000</td>\n",
       "      <td>2024-07-02 00:00:00</td>\n",
       "      <td>387.489990</td>\n",
       "      <td>325.750000</td>\n",
       "      <td>70.769997</td>\n",
       "      <td>182.145004</td>\n",
       "      <td>188.000000</td>\n",
       "      <td>0.000000</td>\n",
       "      <td>0.000000</td>\n",
       "      <td>188.000000</td>\n",
       "      <td>0.000000</td>\n",
       "      <td>178.029999</td>\n",
       "      <td>183.614998</td>\n",
       "      <td>47.939999</td>\n",
       "      <td>0.243000</td>\n",
       "      <td>3.000000</td>\n",
       "      <td>51.459999</td>\n",
       "    </tr>\n",
       "    <tr>\n",
       "      <th>75%</th>\n",
       "      <td>162.000000</td>\n",
       "      <td>195.000000</td>\n",
       "      <td>2024-10-02 00:00:00</td>\n",
       "      <td>572.989990</td>\n",
       "      <td>490.140015</td>\n",
       "      <td>89.459999</td>\n",
       "      <td>696.357498</td>\n",
       "      <td>679.000000</td>\n",
       "      <td>0.000000</td>\n",
       "      <td>1.000000</td>\n",
       "      <td>699.000000</td>\n",
       "      <td>0.000000</td>\n",
       "      <td>603.599976</td>\n",
       "      <td>717.405014</td>\n",
       "      <td>143.992504</td>\n",
       "      <td>1.743000</td>\n",
       "      <td>11.575800</td>\n",
       "      <td>147.770996</td>\n",
       "    </tr>\n",
       "    <tr>\n",
       "      <th>95%</th>\n",
       "      <td>198.000000</td>\n",
       "      <td>290.000000</td>\n",
       "      <td>2024-12-13 00:00:00</td>\n",
       "      <td>799.099976</td>\n",
       "      <td>706.950012</td>\n",
       "      <td>102.089996</td>\n",
       "      <td>3128.983044</td>\n",
       "      <td>2912.500000</td>\n",
       "      <td>278.000000</td>\n",
       "      <td>18.000000</td>\n",
       "      <td>3234.600000</td>\n",
       "      <td>130.000000</td>\n",
       "      <td>3165.399902</td>\n",
       "      <td>6741.002295</td>\n",
       "      <td>856.827008</td>\n",
       "      <td>13.799000</td>\n",
       "      <td>116.989998</td>\n",
       "      <td>825.190002</td>\n",
       "    </tr>\n",
       "    <tr>\n",
       "      <th>max</th>\n",
       "      <td>219.000000</td>\n",
       "      <td>315.000000</td>\n",
       "      <td>2024-12-31 00:00:00</td>\n",
       "      <td>912.960022</td>\n",
       "      <td>3960.260010</td>\n",
       "      <td>997.090027</td>\n",
       "      <td>33615.160156</td>\n",
       "      <td>26105.000000</td>\n",
       "      <td>14204.000000</td>\n",
       "      <td>1175.000000</td>\n",
       "      <td>33648.601562</td>\n",
       "      <td>11658.030273</td>\n",
       "      <td>33311.128906</td>\n",
       "      <td>18915.970703</td>\n",
       "      <td>32826.019531</td>\n",
       "      <td>262.003998</td>\n",
       "      <td>458.149994</td>\n",
       "      <td>33200.378906</td>\n",
       "    </tr>\n",
       "    <tr>\n",
       "      <th>std</th>\n",
       "      <td>63.258463</td>\n",
       "      <td>91.902986</td>\n",
       "      <td>NaN</td>\n",
       "      <td>221.270285</td>\n",
       "      <td>221.510175</td>\n",
       "      <td>79.530254</td>\n",
       "      <td>2091.648512</td>\n",
       "      <td>1831.010876</td>\n",
       "      <td>519.831501</td>\n",
       "      <td>42.201140</td>\n",
       "      <td>2035.730423</td>\n",
       "      <td>510.580411</td>\n",
       "      <td>2187.392942</td>\n",
       "      <td>2214.429207</td>\n",
       "      <td>1434.205535</td>\n",
       "      <td>16.258343</td>\n",
       "      <td>49.357195</td>\n",
       "      <td>1446.151665</td>\n",
       "    </tr>\n",
       "  </tbody>\n",
       "</table>\n",
       "</div>"
      ],
      "text/plain": [
       "        num_ordemcs     cod_usina                   din_instante  \\\n",
       "count  61701.000000  61854.000000                          63165   \n",
       "mean     103.186561    133.207101  2024-07-01 23:56:10.201852160   \n",
       "min        1.000000      0.000000            2024-01-01 00:00:00   \n",
       "5%         9.000000     10.000000            2024-01-19 00:00:00   \n",
       "25%       45.000000     51.000000            2024-04-01 00:00:00   \n",
       "50%       98.000000    119.000000            2024-07-02 00:00:00   \n",
       "75%      162.000000    195.000000            2024-10-02 00:00:00   \n",
       "95%      198.000000    290.000000            2024-12-13 00:00:00   \n",
       "max      219.000000    315.000000            2024-12-31 00:00:00   \n",
       "std       63.258463     91.902986                            NaN   \n",
       "\n",
       "       val_nivelmontante  val_niveljusante  val_volumeutilcon  \\\n",
       "count       62347.000000      57659.000000       60541.000000   \n",
       "mean          410.366591        327.862175          62.515563   \n",
       "min          -146.460007     -16451.080078       -1703.859985   \n",
       "5%             70.529999         15.739000          15.590000   \n",
       "25%           254.349998        149.129997          49.680000   \n",
       "50%           387.489990        325.750000          70.769997   \n",
       "75%           572.989990        490.140015          89.459999   \n",
       "95%           799.099976        706.950012         102.089996   \n",
       "max           912.960022       3960.260010         997.090027   \n",
       "std           221.270285        221.510175          79.530254   \n",
       "\n",
       "       val_vazaoafluente  val_vazaoturbinada  val_vazaovertida  \\\n",
       "count       62710.000000        59111.000000      62020.000000   \n",
       "mean          761.851508          713.458817         80.485640   \n",
       "min          -726.000000            0.000000          0.000000   \n",
       "5%              7.000000            0.000000          0.000000   \n",
       "25%            60.000000           64.000000          0.000000   \n",
       "50%           182.145004          188.000000          0.000000   \n",
       "75%           696.357498          679.000000          0.000000   \n",
       "95%          3128.983044         2912.500000        278.000000   \n",
       "max         33615.160156        26105.000000      14204.000000   \n",
       "std          2091.648512         1831.010876        519.831501   \n",
       "\n",
       "       val_vazaooutrasestruturas  val_vazaodefluente  val_vazaotransferida  \\\n",
       "count               40006.000000        62348.000000          29786.000000   \n",
       "mean                    6.294041          760.385689             54.033551   \n",
       "min                     0.000000            0.000000           -726.000000   \n",
       "5%                      0.000000           10.000000              0.000000   \n",
       "25%                     0.000000           69.000000              0.000000   \n",
       "50%                     0.000000          188.000000              0.000000   \n",
       "75%                     1.000000          699.000000              0.000000   \n",
       "95%                    18.000000         3234.600000            130.000000   \n",
       "max                  1175.000000        33648.601562          11658.030273   \n",
       "std                    42.201140         2035.730423            510.580411   \n",
       "\n",
       "       val_vazaonatural  val_vazaoartificial  val_vazaoincremental  \\\n",
       "count      61854.000000          8784.000000          60524.000000   \n",
       "mean         784.333203          1094.832103            283.386863   \n",
       "min            0.000000             0.000000            -71.997002   \n",
       "5%             4.690000            10.000000              0.000000   \n",
       "25%           56.939999            81.715000             10.100000   \n",
       "50%          178.029999           183.614998             47.939999   \n",
       "75%          603.599976           717.405014            143.992504   \n",
       "95%         3165.399902          6741.002295            856.827008   \n",
       "max        33311.128906         18915.970703          32826.019531   \n",
       "std         2187.392942          2214.429207           1434.205535   \n",
       "\n",
       "       val_vazaoevaporacaoliquida  val_vazaousoconsuntivo  \\\n",
       "count                56981.000000            56761.000000   \n",
       "mean                     3.274575               20.480046   \n",
       "min                    -22.330999                0.000000   \n",
       "5%                      -0.567000                0.033200   \n",
       "25%                      0.001000                0.420000   \n",
       "50%                      0.243000                3.000000   \n",
       "75%                      1.743000               11.575800   \n",
       "95%                     13.799000              116.989998   \n",
       "max                    262.003998              458.149994   \n",
       "std                     16.258343               49.357195   \n",
       "\n",
       "       val_vazaoincrementalbruta  \n",
       "count               59481.000000  \n",
       "mean                  278.936723  \n",
       "min                 -1116.300049  \n",
       "5%                    -19.969999  \n",
       "25%                    11.260000  \n",
       "50%                    51.459999  \n",
       "75%                   147.770996  \n",
       "95%                   825.190002  \n",
       "max                 33200.378906  \n",
       "std                  1446.151665  "
      ]
     },
     "execution_count": 126,
     "metadata": {},
     "output_type": "execute_result"
    }
   ],
   "source": [
    "res.describe(percentiles=[0.05, 0.25, 0.75, 0.95])"
   ]
  },
  {
   "cell_type": "code",
   "execution_count": 130,
   "metadata": {},
   "outputs": [
    {
     "data": {
      "text/plain": [
       "(22, 94)"
      ]
     },
     "execution_count": 130,
     "metadata": {},
     "output_type": "execute_result"
    }
   ],
   "source": [
    "res['cod_usina'].idxmin(), res['cod_usina'].idxmax()"
   ]
  },
  {
   "cell_type": "code",
   "execution_count": 136,
   "metadata": {},
   "outputs": [
    {
     "data": {
      "text/plain": [
       "(0.0, 315.0)"
      ]
     },
     "execution_count": 136,
     "metadata": {},
     "output_type": "execute_result"
    }
   ],
   "source": [
    "res['cod_usina'].loc[22], res['cod_usina'].loc[94] #Min-Max value based on the index"
   ]
  },
  {
   "cell_type": "code",
   "execution_count": null,
   "metadata": {},
   "outputs": [
    {
     "data": {
      "text/plain": [
       "count    61854.000000\n",
       "mean       133.207101\n",
       "std         91.902986\n",
       "min          0.000000\n",
       "25%         51.000000\n",
       "50%        119.000000\n",
       "75%        195.000000\n",
       "max        315.000000\n",
       "Name: cod_usina, dtype: float64"
      ]
     },
     "execution_count": 135,
     "metadata": {},
     "output_type": "execute_result"
    }
   ],
   "source": [
    "res['cod_usina'].describe() "
   ]
  },
  {
   "cell_type": "code",
   "execution_count": 139,
   "metadata": {},
   "outputs": [
    {
     "data": {
      "text/plain": [
       "id_subsistema\n",
       "SE    43554\n",
       "S     12291\n",
       "N      4026\n",
       "NE     3294\n",
       "Name: count, dtype: int64"
      ]
     },
     "execution_count": 139,
     "metadata": {},
     "output_type": "execute_result"
    }
   ],
   "source": [
    "res['id_subsistema'].value_counts()"
   ]
  },
  {
   "cell_type": "code",
   "execution_count": null,
   "metadata": {},
   "outputs": [],
   "source": [
    "#Function Application\n",
    "#tbc https://pandas.pydata.org/docs/user_guide/basics.html#function-application"
   ]
  }
 ],
 "metadata": {
  "kernelspec": {
   "display_name": "spatial",
   "language": "python",
   "name": "python3"
  },
  "language_info": {
   "codemirror_mode": {
    "name": "ipython",
    "version": 3
   },
   "file_extension": ".py",
   "mimetype": "text/x-python",
   "name": "python",
   "nbconvert_exporter": "python",
   "pygments_lexer": "ipython3",
   "version": "3.12.9"
  }
 },
 "nbformat": 4,
 "nbformat_minor": 2
}
