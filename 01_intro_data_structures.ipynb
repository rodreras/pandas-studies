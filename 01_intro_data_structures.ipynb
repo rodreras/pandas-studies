{
 "cells": [
  {
   "cell_type": "markdown",
   "metadata": {},
   "source": [
    "# Pandas User Guide\n",
    "\n",
    "Studying Pandas and its API. \n",
    "\n",
    "## 01. Intro to Basic Structures"
   ]
  },
  {
   "cell_type": "code",
   "execution_count": 1,
   "metadata": {},
   "outputs": [],
   "source": [
    "import pandas as pd\n",
    "import numpy as np"
   ]
  },
  {
   "cell_type": "markdown",
   "metadata": {},
   "source": [
    "### Series"
   ]
  },
  {
   "cell_type": "code",
   "execution_count": 2,
   "metadata": {},
   "outputs": [
    {
     "data": {
      "text/plain": [
       "a   -0.282120\n",
       "b   -2.200607\n",
       "c   -0.055148\n",
       "d   -0.353520\n",
       "e   -1.762315\n",
       "dtype: float64"
      ]
     },
     "execution_count": 2,
     "metadata": {},
     "output_type": "execute_result"
    }
   ],
   "source": [
    "#Creating a Panda Series from a np.array\n",
    "\n",
    "array = np.random.randn(5)\n",
    "\n",
    "index = ['a', 'b', 'c', 'd', 'e']\n",
    "\n",
    "s = pd.Series(array, index)\n",
    "\n",
    "s"
   ]
  },
  {
   "cell_type": "code",
   "execution_count": 3,
   "metadata": {},
   "outputs": [
    {
     "data": {
      "text/plain": [
       "Index(['a', 'b', 'c', 'd', 'e'], dtype='object')"
      ]
     },
     "execution_count": 3,
     "metadata": {},
     "output_type": "execute_result"
    }
   ],
   "source": [
    "#Printing the indexes\n",
    "s.index"
   ]
  },
  {
   "cell_type": "code",
   "execution_count": 4,
   "metadata": {},
   "outputs": [
    {
     "data": {
      "text/plain": [
       "a    2010\n",
       "b    2012\n",
       "c    2013\n",
       "d    2015\n",
       "dtype: int64"
      ]
     },
     "execution_count": 4,
     "metadata": {},
     "output_type": "execute_result"
    }
   ],
   "source": [
    "#Building a series from a dict\n",
    "\n",
    "d = {\n",
    "    'a':2010,\n",
    "    'b':2012,\n",
    "    'c':2013,\n",
    "    'd':2015\n",
    "}\n",
    "\n",
    "s = pd.Series(d)\n",
    "\n",
    "s"
   ]
  },
  {
   "cell_type": "code",
   "execution_count": 5,
   "metadata": {},
   "outputs": [
    {
     "data": {
      "text/plain": [
       "2010"
      ]
     },
     "execution_count": 5,
     "metadata": {},
     "output_type": "execute_result"
    }
   ],
   "source": [
    "#Series behave like dictionary\n",
    "\n",
    "s['a']"
   ]
  },
  {
   "cell_type": "code",
   "execution_count": 6,
   "metadata": {},
   "outputs": [
    {
     "data": {
      "text/plain": [
       "a    4020\n",
       "b    4024\n",
       "c    4026\n",
       "d    4030\n",
       "dtype: int64"
      ]
     },
     "execution_count": 6,
     "metadata": {},
     "output_type": "execute_result"
    }
   ],
   "source": [
    "#Cool thing, it can be vectorized. \n",
    "s * 2 "
   ]
  },
  {
   "cell_type": "code",
   "execution_count": 7,
   "metadata": {},
   "outputs": [
    {
     "data": {
      "text/plain": [
       "a    6030\n",
       "b    6036\n",
       "c    6039\n",
       "d    6045\n",
       "dtype: int64"
      ]
     },
     "execution_count": 7,
     "metadata": {},
     "output_type": "execute_result"
    }
   ],
   "source": [
    "s + 2 * s "
   ]
  },
  {
   "cell_type": "code",
   "execution_count": 8,
   "metadata": {},
   "outputs": [],
   "source": [
    "d2 = {\n",
    "    'a':2025,\n",
    "    'b':2024,\n",
    "    'c':2023,\n",
    "    'd':2022\n",
    "}\n",
    "\n",
    "z = pd.Series(d2)"
   ]
  },
  {
   "cell_type": "code",
   "execution_count": 9,
   "metadata": {},
   "outputs": [
    {
     "data": {
      "text/plain": [
       "a   -15\n",
       "b   -12\n",
       "c   -10\n",
       "d    -7\n",
       "dtype: int64"
      ]
     },
     "execution_count": 9,
     "metadata": {},
     "output_type": "execute_result"
    }
   ],
   "source": [
    "s - z"
   ]
  },
  {
   "cell_type": "code",
   "execution_count": 10,
   "metadata": {},
   "outputs": [
    {
     "data": {
      "text/plain": [
       "a    45.000000\n",
       "b    44.988888\n",
       "c    44.977772\n",
       "d    44.966654\n",
       "dtype: float64"
      ]
     },
     "execution_count": 10,
     "metadata": {},
     "output_type": "execute_result"
    }
   ],
   "source": [
    "#Numpy operations can be applied to it.\n",
    "np.sqrt(z)"
   ]
  },
  {
   "cell_type": "code",
   "execution_count": 11,
   "metadata": {},
   "outputs": [
    {
     "data": {
      "text/plain": [
       "<NumpyExtensionArray>\n",
       "[2010, 2012, 2013, 2015]\n",
       "Length: 4, dtype: int64"
      ]
     },
     "execution_count": 11,
     "metadata": {},
     "output_type": "execute_result"
    }
   ],
   "source": [
    "#We can also use pandas Series as array-type.\n",
    "#Interesting when we need to do operations without index\n",
    "\n",
    "s.array"
   ]
  },
  {
   "cell_type": "code",
   "execution_count": 12,
   "metadata": {},
   "outputs": [
    {
     "data": {
      "text/plain": [
       "array([2025, 2024, 2023, 2022])"
      ]
     },
     "execution_count": 12,
     "metadata": {},
     "output_type": "execute_result"
    }
   ],
   "source": [
    "#And we can send it to be a np.array\n",
    "arr = z.to_numpy()\n",
    "arr"
   ]
  },
  {
   "cell_type": "code",
   "execution_count": 13,
   "metadata": {},
   "outputs": [
    {
     "data": {
      "text/plain": [
       "(True, False)"
      ]
     },
     "execution_count": 13,
     "metadata": {},
     "output_type": "execute_result"
    }
   ],
   "source": [
    "\"a\" in z, \"k\" in z"
   ]
  },
  {
   "cell_type": "code",
   "execution_count": 14,
   "metadata": {},
   "outputs": [
    {
     "data": {
      "text/plain": [
       "a    4020.0\n",
       "b       NaN\n",
       "c       NaN\n",
       "dtype: float64"
      ]
     },
     "execution_count": 14,
     "metadata": {},
     "output_type": "execute_result"
    }
   ],
   "source": [
    "#A difference between Series and ndarray is that operations between Series automatically align the data based on label. \n",
    "#Thus, you can write computations without giving consideration to whether the Series involved have the same labels.\n",
    "\n",
    "s.iloc[:1] + s.iloc[:-1]\n",
    "\n",
    "#This is interesting to compare dfs and check whether there is missing data or not."
   ]
  },
  {
   "cell_type": "markdown",
   "metadata": {},
   "source": [
    "### Dataframe"
   ]
  },
  {
   "cell_type": "code",
   "execution_count": 15,
   "metadata": {},
   "outputs": [],
   "source": [
    "#Creating a dataframe\n",
    "\n",
    "r = {\n",
    "    \"nom_reservatorio\": [\"14 DE JULHO\", \"ÁGUA VERMELHA\", \"AIMORÉS\", \"ANTA\", \"APOLÔNIO SALES\"],\n",
    "    \"tip_reservatorio\": [\"FIO DAGUA\", \"RESERVATÓRIO COM USINA\", \"FIO DAGUA\", \"RESERVATÓRIO SEM USINA\", \"FIO DAGUA\"],\n",
    "    \"cod_resplanejamento\": [284, 18, 143, 128, 173],\n",
    "    \"cod_posto\": [99, 18, 148, 129, 173],\n",
    "    \"nom_usina\": [\"14 DE JULHO\", \"ÁGUA VERMELHA\", \"AIMORÉS\", \"ANTA\", \"APOLÔNIO SALES\"]\n",
    "\n",
    "}\n",
    "\n",
    "df = pd.DataFrame(r)"
   ]
  },
  {
   "cell_type": "code",
   "execution_count": 16,
   "metadata": {},
   "outputs": [
    {
     "data": {
      "application/vnd.microsoft.datawrangler.viewer.v0+json": {
       "columns": [
        {
         "name": "index",
         "rawType": "int64",
         "type": "integer"
        },
        {
         "name": "nom_reservatorio",
         "rawType": "object",
         "type": "string"
        },
        {
         "name": "tip_reservatorio",
         "rawType": "object",
         "type": "string"
        },
        {
         "name": "cod_resplanejamento",
         "rawType": "int64",
         "type": "integer"
        },
        {
         "name": "cod_posto",
         "rawType": "int64",
         "type": "integer"
        },
        {
         "name": "nom_usina",
         "rawType": "object",
         "type": "string"
        }
       ],
       "conversionMethod": "pd.DataFrame",
       "ref": "705417f7-8a30-4068-9fab-4916f04c8e04",
       "rows": [
        [
         "0",
         "14 DE JULHO",
         "FIO DAGUA",
         "284",
         "99",
         "14 DE JULHO"
        ],
        [
         "1",
         "ÁGUA VERMELHA",
         "RESERVATÓRIO COM USINA",
         "18",
         "18",
         "ÁGUA VERMELHA"
        ],
        [
         "2",
         "AIMORÉS",
         "FIO DAGUA",
         "143",
         "148",
         "AIMORÉS"
        ],
        [
         "3",
         "ANTA",
         "RESERVATÓRIO SEM USINA",
         "128",
         "129",
         "ANTA"
        ],
        [
         "4",
         "APOLÔNIO SALES",
         "FIO DAGUA",
         "173",
         "173",
         "APOLÔNIO SALES"
        ]
       ],
       "shape": {
        "columns": 5,
        "rows": 5
       }
      },
      "text/html": [
       "<div>\n",
       "<style scoped>\n",
       "    .dataframe tbody tr th:only-of-type {\n",
       "        vertical-align: middle;\n",
       "    }\n",
       "\n",
       "    .dataframe tbody tr th {\n",
       "        vertical-align: top;\n",
       "    }\n",
       "\n",
       "    .dataframe thead th {\n",
       "        text-align: right;\n",
       "    }\n",
       "</style>\n",
       "<table border=\"1\" class=\"dataframe\">\n",
       "  <thead>\n",
       "    <tr style=\"text-align: right;\">\n",
       "      <th></th>\n",
       "      <th>nom_reservatorio</th>\n",
       "      <th>tip_reservatorio</th>\n",
       "      <th>cod_resplanejamento</th>\n",
       "      <th>cod_posto</th>\n",
       "      <th>nom_usina</th>\n",
       "    </tr>\n",
       "  </thead>\n",
       "  <tbody>\n",
       "    <tr>\n",
       "      <th>0</th>\n",
       "      <td>14 DE JULHO</td>\n",
       "      <td>FIO DAGUA</td>\n",
       "      <td>284</td>\n",
       "      <td>99</td>\n",
       "      <td>14 DE JULHO</td>\n",
       "    </tr>\n",
       "    <tr>\n",
       "      <th>1</th>\n",
       "      <td>ÁGUA VERMELHA</td>\n",
       "      <td>RESERVATÓRIO COM USINA</td>\n",
       "      <td>18</td>\n",
       "      <td>18</td>\n",
       "      <td>ÁGUA VERMELHA</td>\n",
       "    </tr>\n",
       "    <tr>\n",
       "      <th>2</th>\n",
       "      <td>AIMORÉS</td>\n",
       "      <td>FIO DAGUA</td>\n",
       "      <td>143</td>\n",
       "      <td>148</td>\n",
       "      <td>AIMORÉS</td>\n",
       "    </tr>\n",
       "    <tr>\n",
       "      <th>3</th>\n",
       "      <td>ANTA</td>\n",
       "      <td>RESERVATÓRIO SEM USINA</td>\n",
       "      <td>128</td>\n",
       "      <td>129</td>\n",
       "      <td>ANTA</td>\n",
       "    </tr>\n",
       "    <tr>\n",
       "      <th>4</th>\n",
       "      <td>APOLÔNIO SALES</td>\n",
       "      <td>FIO DAGUA</td>\n",
       "      <td>173</td>\n",
       "      <td>173</td>\n",
       "      <td>APOLÔNIO SALES</td>\n",
       "    </tr>\n",
       "  </tbody>\n",
       "</table>\n",
       "</div>"
      ],
      "text/plain": [
       "  nom_reservatorio        tip_reservatorio  cod_resplanejamento  cod_posto  \\\n",
       "0      14 DE JULHO               FIO DAGUA                  284         99   \n",
       "1    ÁGUA VERMELHA  RESERVATÓRIO COM USINA                   18         18   \n",
       "2          AIMORÉS               FIO DAGUA                  143        148   \n",
       "3             ANTA  RESERVATÓRIO SEM USINA                  128        129   \n",
       "4   APOLÔNIO SALES               FIO DAGUA                  173        173   \n",
       "\n",
       "        nom_usina  \n",
       "0     14 DE JULHO  \n",
       "1   ÁGUA VERMELHA  \n",
       "2         AIMORÉS  \n",
       "3            ANTA  \n",
       "4  APOLÔNIO SALES  "
      ]
     },
     "execution_count": 16,
     "metadata": {},
     "output_type": "execute_result"
    }
   ],
   "source": [
    "df"
   ]
  },
  {
   "cell_type": "code",
   "execution_count": 17,
   "metadata": {},
   "outputs": [
    {
     "data": {
      "text/plain": [
       "RangeIndex(start=0, stop=5, step=1)"
      ]
     },
     "metadata": {},
     "output_type": "display_data"
    },
    {
     "data": {
      "text/plain": [
       "Index(['nom_reservatorio', 'tip_reservatorio', 'cod_resplanejamento',\n",
       "       'cod_posto', 'nom_usina'],\n",
       "      dtype='object')"
      ]
     },
     "metadata": {},
     "output_type": "display_data"
    }
   ],
   "source": [
    "#Get df index\n",
    "display(df.index)\n",
    "\n",
    "#Get column names\n",
    "display(df.columns)"
   ]
  },
  {
   "cell_type": "code",
   "execution_count": 18,
   "metadata": {},
   "outputs": [],
   "source": [
    "#Not to be extensive, but dfs can also be generated from:\n",
    "\n",
    "# - list of dicts\n",
    "# - structured or record array\n",
    "# - dict of tuples\n",
    "# - a series\n",
    "# - list of named tuples (see below)\n",
    "# - list of a dataclasses (see below)\n",
    "# - alternate contructor"
   ]
  },
  {
   "cell_type": "code",
   "execution_count": 19,
   "metadata": {},
   "outputs": [
    {
     "data": {
      "application/vnd.microsoft.datawrangler.viewer.v0+json": {
       "columns": [
        {
         "name": "index",
         "rawType": "int64",
         "type": "integer"
        },
        {
         "name": "x",
         "rawType": "int64",
         "type": "integer"
        },
        {
         "name": "y",
         "rawType": "int64",
         "type": "integer"
        }
       ],
       "conversionMethod": "pd.DataFrame",
       "ref": "ed62efa4-9e92-4bd4-996f-a3e1597d1b5a",
       "rows": [
        [
         "0",
         "0",
         "0"
        ],
        [
         "1",
         "1",
         "0"
        ],
        [
         "2",
         "2",
         "2"
        ]
       ],
       "shape": {
        "columns": 2,
        "rows": 3
       }
      },
      "text/html": [
       "<div>\n",
       "<style scoped>\n",
       "    .dataframe tbody tr th:only-of-type {\n",
       "        vertical-align: middle;\n",
       "    }\n",
       "\n",
       "    .dataframe tbody tr th {\n",
       "        vertical-align: top;\n",
       "    }\n",
       "\n",
       "    .dataframe thead th {\n",
       "        text-align: right;\n",
       "    }\n",
       "</style>\n",
       "<table border=\"1\" class=\"dataframe\">\n",
       "  <thead>\n",
       "    <tr style=\"text-align: right;\">\n",
       "      <th></th>\n",
       "      <th>x</th>\n",
       "      <th>y</th>\n",
       "    </tr>\n",
       "  </thead>\n",
       "  <tbody>\n",
       "    <tr>\n",
       "      <th>0</th>\n",
       "      <td>0</td>\n",
       "      <td>0</td>\n",
       "    </tr>\n",
       "    <tr>\n",
       "      <th>1</th>\n",
       "      <td>1</td>\n",
       "      <td>0</td>\n",
       "    </tr>\n",
       "    <tr>\n",
       "      <th>2</th>\n",
       "      <td>2</td>\n",
       "      <td>2</td>\n",
       "    </tr>\n",
       "  </tbody>\n",
       "</table>\n",
       "</div>"
      ],
      "text/plain": [
       "   x  y\n",
       "0  0  0\n",
       "1  1  0\n",
       "2  2  2"
      ]
     },
     "execution_count": 19,
     "metadata": {},
     "output_type": "execute_result"
    }
   ],
   "source": [
    "# List of Named Tuples\n",
    "\n",
    "from collections import namedtuple\n",
    "\n",
    "Point = namedtuple('Point', 'x y')\n",
    "\n",
    "pd.DataFrame(\n",
    "    [\n",
    "        Point(0,0),\n",
    "        Point(1,0),\n",
    "        Point(2,2)\n",
    "    ]\n",
    ")"
   ]
  },
  {
   "cell_type": "code",
   "execution_count": 20,
   "metadata": {},
   "outputs": [
    {
     "data": {
      "application/vnd.microsoft.datawrangler.viewer.v0+json": {
       "columns": [
        {
         "name": "index",
         "rawType": "int64",
         "type": "integer"
        },
        {
         "name": "x",
         "rawType": "int64",
         "type": "integer"
        },
        {
         "name": "y",
         "rawType": "int64",
         "type": "integer"
        },
        {
         "name": "z",
         "rawType": "int64",
         "type": "integer"
        }
       ],
       "conversionMethod": "pd.DataFrame",
       "ref": "6708db14-6ab4-404f-93be-94a8d2a3064b",
       "rows": [
        [
         "0",
         "0",
         "1",
         "2"
        ],
        [
         "1",
         "-1",
         "2",
         "0"
        ],
        [
         "2",
         "0",
         "0",
         "-2"
        ]
       ],
       "shape": {
        "columns": 3,
        "rows": 3
       }
      },
      "text/html": [
       "<div>\n",
       "<style scoped>\n",
       "    .dataframe tbody tr th:only-of-type {\n",
       "        vertical-align: middle;\n",
       "    }\n",
       "\n",
       "    .dataframe tbody tr th {\n",
       "        vertical-align: top;\n",
       "    }\n",
       "\n",
       "    .dataframe thead th {\n",
       "        text-align: right;\n",
       "    }\n",
       "</style>\n",
       "<table border=\"1\" class=\"dataframe\">\n",
       "  <thead>\n",
       "    <tr style=\"text-align: right;\">\n",
       "      <th></th>\n",
       "      <th>x</th>\n",
       "      <th>y</th>\n",
       "      <th>z</th>\n",
       "    </tr>\n",
       "  </thead>\n",
       "  <tbody>\n",
       "    <tr>\n",
       "      <th>0</th>\n",
       "      <td>0</td>\n",
       "      <td>1</td>\n",
       "      <td>2</td>\n",
       "    </tr>\n",
       "    <tr>\n",
       "      <th>1</th>\n",
       "      <td>-1</td>\n",
       "      <td>2</td>\n",
       "      <td>0</td>\n",
       "    </tr>\n",
       "    <tr>\n",
       "      <th>2</th>\n",
       "      <td>0</td>\n",
       "      <td>0</td>\n",
       "      <td>-2</td>\n",
       "    </tr>\n",
       "  </tbody>\n",
       "</table>\n",
       "</div>"
      ],
      "text/plain": [
       "   x  y  z\n",
       "0  0  1  2\n",
       "1 -1  2  0\n",
       "2  0  0 -2"
      ]
     },
     "execution_count": 20,
     "metadata": {},
     "output_type": "execute_result"
    }
   ],
   "source": [
    "Point3D = namedtuple('Point3D', 'x y z')\n",
    "\n",
    "pd.DataFrame(\n",
    "    [\n",
    "        Point3D(0,1,2),\n",
    "        Point3D(-1,2,0),\n",
    "        Point3D(0,0,-2)\n",
    "    ]\n",
    ")"
   ]
  },
  {
   "cell_type": "code",
   "execution_count": 21,
   "metadata": {},
   "outputs": [
    {
     "data": {
      "application/vnd.microsoft.datawrangler.viewer.v0+json": {
       "columns": [
        {
         "name": "index",
         "rawType": "int64",
         "type": "integer"
        },
        {
         "name": "x",
         "rawType": "int64",
         "type": "integer"
        },
        {
         "name": "y",
         "rawType": "int64",
         "type": "integer"
        }
       ],
       "conversionMethod": "pd.DataFrame",
       "ref": "738dd828-5f0f-443c-8988-b02cc50397fe",
       "rows": [
        [
         "0",
         "0",
         "0"
        ],
        [
         "1",
         "2",
         "0"
        ],
        [
         "2",
         "1",
         "2"
        ]
       ],
       "shape": {
        "columns": 2,
        "rows": 3
       }
      },
      "text/html": [
       "<div>\n",
       "<style scoped>\n",
       "    .dataframe tbody tr th:only-of-type {\n",
       "        vertical-align: middle;\n",
       "    }\n",
       "\n",
       "    .dataframe tbody tr th {\n",
       "        vertical-align: top;\n",
       "    }\n",
       "\n",
       "    .dataframe thead th {\n",
       "        text-align: right;\n",
       "    }\n",
       "</style>\n",
       "<table border=\"1\" class=\"dataframe\">\n",
       "  <thead>\n",
       "    <tr style=\"text-align: right;\">\n",
       "      <th></th>\n",
       "      <th>x</th>\n",
       "      <th>y</th>\n",
       "    </tr>\n",
       "  </thead>\n",
       "  <tbody>\n",
       "    <tr>\n",
       "      <th>0</th>\n",
       "      <td>0</td>\n",
       "      <td>0</td>\n",
       "    </tr>\n",
       "    <tr>\n",
       "      <th>1</th>\n",
       "      <td>2</td>\n",
       "      <td>0</td>\n",
       "    </tr>\n",
       "    <tr>\n",
       "      <th>2</th>\n",
       "      <td>1</td>\n",
       "      <td>2</td>\n",
       "    </tr>\n",
       "  </tbody>\n",
       "</table>\n",
       "</div>"
      ],
      "text/plain": [
       "   x  y\n",
       "0  0  0\n",
       "1  2  0\n",
       "2  1  2"
      ]
     },
     "execution_count": 21,
     "metadata": {},
     "output_type": "execute_result"
    }
   ],
   "source": [
    "#List of Dataclass\n",
    "\n",
    "from dataclasses import make_dataclass\n",
    "\n",
    "Point = make_dataclass('Point', [('x', int), ('y', int)])\n",
    "\n",
    "pd.DataFrame([\n",
    "    Point(0,0),\n",
    "    Point(2,0),\n",
    "    Point(1,2)\n",
    "])"
   ]
  },
  {
   "cell_type": "markdown",
   "metadata": {},
   "source": [
    "#### Dataframe Operations"
   ]
  },
  {
   "cell_type": "code",
   "execution_count": 22,
   "metadata": {},
   "outputs": [
    {
     "data": {
      "application/vnd.microsoft.datawrangler.viewer.v0+json": {
       "columns": [
        {
         "name": "index",
         "rawType": "int64",
         "type": "integer"
        },
        {
         "name": "nom_reservatorio",
         "rawType": "object",
         "type": "string"
        },
        {
         "name": "tip_reservatorio",
         "rawType": "object",
         "type": "string"
        },
        {
         "name": "cod_resplanejamento",
         "rawType": "int64",
         "type": "integer"
        },
        {
         "name": "cod_posto",
         "rawType": "int64",
         "type": "integer"
        },
        {
         "name": "nom_usina",
         "rawType": "object",
         "type": "string"
        }
       ],
       "conversionMethod": "pd.DataFrame",
       "ref": "b304e995-5a77-4fa1-b0e3-03b83e423eac",
       "rows": [
        [
         "0",
         "14 DE JULHO",
         "FIO DAGUA",
         "284",
         "99",
         "14 DE JULHO"
        ],
        [
         "1",
         "ÁGUA VERMELHA",
         "RESERVATÓRIO COM USINA",
         "18",
         "18",
         "ÁGUA VERMELHA"
        ],
        [
         "2",
         "AIMORÉS",
         "FIO DAGUA",
         "143",
         "148",
         "AIMORÉS"
        ],
        [
         "3",
         "ANTA",
         "RESERVATÓRIO SEM USINA",
         "128",
         "129",
         "ANTA"
        ],
        [
         "4",
         "APOLÔNIO SALES",
         "FIO DAGUA",
         "173",
         "173",
         "APOLÔNIO SALES"
        ]
       ],
       "shape": {
        "columns": 5,
        "rows": 5
       }
      },
      "text/html": [
       "<div>\n",
       "<style scoped>\n",
       "    .dataframe tbody tr th:only-of-type {\n",
       "        vertical-align: middle;\n",
       "    }\n",
       "\n",
       "    .dataframe tbody tr th {\n",
       "        vertical-align: top;\n",
       "    }\n",
       "\n",
       "    .dataframe thead th {\n",
       "        text-align: right;\n",
       "    }\n",
       "</style>\n",
       "<table border=\"1\" class=\"dataframe\">\n",
       "  <thead>\n",
       "    <tr style=\"text-align: right;\">\n",
       "      <th></th>\n",
       "      <th>nom_reservatorio</th>\n",
       "      <th>tip_reservatorio</th>\n",
       "      <th>cod_resplanejamento</th>\n",
       "      <th>cod_posto</th>\n",
       "      <th>nom_usina</th>\n",
       "    </tr>\n",
       "  </thead>\n",
       "  <tbody>\n",
       "    <tr>\n",
       "      <th>0</th>\n",
       "      <td>14 DE JULHO</td>\n",
       "      <td>FIO DAGUA</td>\n",
       "      <td>284</td>\n",
       "      <td>99</td>\n",
       "      <td>14 DE JULHO</td>\n",
       "    </tr>\n",
       "    <tr>\n",
       "      <th>1</th>\n",
       "      <td>ÁGUA VERMELHA</td>\n",
       "      <td>RESERVATÓRIO COM USINA</td>\n",
       "      <td>18</td>\n",
       "      <td>18</td>\n",
       "      <td>ÁGUA VERMELHA</td>\n",
       "    </tr>\n",
       "    <tr>\n",
       "      <th>2</th>\n",
       "      <td>AIMORÉS</td>\n",
       "      <td>FIO DAGUA</td>\n",
       "      <td>143</td>\n",
       "      <td>148</td>\n",
       "      <td>AIMORÉS</td>\n",
       "    </tr>\n",
       "    <tr>\n",
       "      <th>3</th>\n",
       "      <td>ANTA</td>\n",
       "      <td>RESERVATÓRIO SEM USINA</td>\n",
       "      <td>128</td>\n",
       "      <td>129</td>\n",
       "      <td>ANTA</td>\n",
       "    </tr>\n",
       "    <tr>\n",
       "      <th>4</th>\n",
       "      <td>APOLÔNIO SALES</td>\n",
       "      <td>FIO DAGUA</td>\n",
       "      <td>173</td>\n",
       "      <td>173</td>\n",
       "      <td>APOLÔNIO SALES</td>\n",
       "    </tr>\n",
       "  </tbody>\n",
       "</table>\n",
       "</div>"
      ],
      "text/plain": [
       "  nom_reservatorio        tip_reservatorio  cod_resplanejamento  cod_posto  \\\n",
       "0      14 DE JULHO               FIO DAGUA                  284         99   \n",
       "1    ÁGUA VERMELHA  RESERVATÓRIO COM USINA                   18         18   \n",
       "2          AIMORÉS               FIO DAGUA                  143        148   \n",
       "3             ANTA  RESERVATÓRIO SEM USINA                  128        129   \n",
       "4   APOLÔNIO SALES               FIO DAGUA                  173        173   \n",
       "\n",
       "        nom_usina  \n",
       "0     14 DE JULHO  \n",
       "1   ÁGUA VERMELHA  \n",
       "2         AIMORÉS  \n",
       "3            ANTA  \n",
       "4  APOLÔNIO SALES  "
      ]
     },
     "execution_count": 22,
     "metadata": {},
     "output_type": "execute_result"
    }
   ],
   "source": [
    "df"
   ]
  },
  {
   "cell_type": "code",
   "execution_count": 23,
   "metadata": {},
   "outputs": [
    {
     "data": {
      "text/plain": [
       "0       14 DE JULHO\n",
       "1     ÁGUA VERMELHA\n",
       "2           AIMORÉS\n",
       "3              ANTA\n",
       "4    APOLÔNIO SALES\n",
       "Name: nom_usina, dtype: object"
      ]
     },
     "execution_count": 23,
     "metadata": {},
     "output_type": "execute_result"
    }
   ],
   "source": [
    "# Selecting only one column by its name\n",
    "df['nom_usina']"
   ]
  },
  {
   "cell_type": "code",
   "execution_count": 24,
   "metadata": {},
   "outputs": [
    {
     "data": {
      "application/vnd.microsoft.datawrangler.viewer.v0+json": {
       "columns": [
        {
         "name": "index",
         "rawType": "int64",
         "type": "integer"
        },
        {
         "name": "nom_reservatorio",
         "rawType": "object",
         "type": "string"
        },
        {
         "name": "tip_reservatorio",
         "rawType": "object",
         "type": "string"
        },
        {
         "name": "cod_resplanejamento",
         "rawType": "int64",
         "type": "integer"
        },
        {
         "name": "cod_posto",
         "rawType": "int64",
         "type": "integer"
        },
        {
         "name": "nom_usina",
         "rawType": "object",
         "type": "string"
        },
        {
         "name": "calculus",
         "rawType": "int64",
         "type": "integer"
        }
       ],
       "conversionMethod": "pd.DataFrame",
       "ref": "5f2ade54-8692-4bc5-ab63-2a5316687859",
       "rows": [
        [
         "0",
         "14 DE JULHO",
         "FIO DAGUA",
         "284",
         "99",
         "14 DE JULHO",
         "383"
        ],
        [
         "1",
         "ÁGUA VERMELHA",
         "RESERVATÓRIO COM USINA",
         "18",
         "18",
         "ÁGUA VERMELHA",
         "36"
        ],
        [
         "2",
         "AIMORÉS",
         "FIO DAGUA",
         "143",
         "148",
         "AIMORÉS",
         "291"
        ],
        [
         "3",
         "ANTA",
         "RESERVATÓRIO SEM USINA",
         "128",
         "129",
         "ANTA",
         "257"
        ],
        [
         "4",
         "APOLÔNIO SALES",
         "FIO DAGUA",
         "173",
         "173",
         "APOLÔNIO SALES",
         "346"
        ]
       ],
       "shape": {
        "columns": 6,
        "rows": 5
       }
      },
      "text/html": [
       "<div>\n",
       "<style scoped>\n",
       "    .dataframe tbody tr th:only-of-type {\n",
       "        vertical-align: middle;\n",
       "    }\n",
       "\n",
       "    .dataframe tbody tr th {\n",
       "        vertical-align: top;\n",
       "    }\n",
       "\n",
       "    .dataframe thead th {\n",
       "        text-align: right;\n",
       "    }\n",
       "</style>\n",
       "<table border=\"1\" class=\"dataframe\">\n",
       "  <thead>\n",
       "    <tr style=\"text-align: right;\">\n",
       "      <th></th>\n",
       "      <th>nom_reservatorio</th>\n",
       "      <th>tip_reservatorio</th>\n",
       "      <th>cod_resplanejamento</th>\n",
       "      <th>cod_posto</th>\n",
       "      <th>nom_usina</th>\n",
       "      <th>calculus</th>\n",
       "    </tr>\n",
       "  </thead>\n",
       "  <tbody>\n",
       "    <tr>\n",
       "      <th>0</th>\n",
       "      <td>14 DE JULHO</td>\n",
       "      <td>FIO DAGUA</td>\n",
       "      <td>284</td>\n",
       "      <td>99</td>\n",
       "      <td>14 DE JULHO</td>\n",
       "      <td>383</td>\n",
       "    </tr>\n",
       "    <tr>\n",
       "      <th>1</th>\n",
       "      <td>ÁGUA VERMELHA</td>\n",
       "      <td>RESERVATÓRIO COM USINA</td>\n",
       "      <td>18</td>\n",
       "      <td>18</td>\n",
       "      <td>ÁGUA VERMELHA</td>\n",
       "      <td>36</td>\n",
       "    </tr>\n",
       "    <tr>\n",
       "      <th>2</th>\n",
       "      <td>AIMORÉS</td>\n",
       "      <td>FIO DAGUA</td>\n",
       "      <td>143</td>\n",
       "      <td>148</td>\n",
       "      <td>AIMORÉS</td>\n",
       "      <td>291</td>\n",
       "    </tr>\n",
       "    <tr>\n",
       "      <th>3</th>\n",
       "      <td>ANTA</td>\n",
       "      <td>RESERVATÓRIO SEM USINA</td>\n",
       "      <td>128</td>\n",
       "      <td>129</td>\n",
       "      <td>ANTA</td>\n",
       "      <td>257</td>\n",
       "    </tr>\n",
       "    <tr>\n",
       "      <th>4</th>\n",
       "      <td>APOLÔNIO SALES</td>\n",
       "      <td>FIO DAGUA</td>\n",
       "      <td>173</td>\n",
       "      <td>173</td>\n",
       "      <td>APOLÔNIO SALES</td>\n",
       "      <td>346</td>\n",
       "    </tr>\n",
       "  </tbody>\n",
       "</table>\n",
       "</div>"
      ],
      "text/plain": [
       "  nom_reservatorio        tip_reservatorio  cod_resplanejamento  cod_posto  \\\n",
       "0      14 DE JULHO               FIO DAGUA                  284         99   \n",
       "1    ÁGUA VERMELHA  RESERVATÓRIO COM USINA                   18         18   \n",
       "2          AIMORÉS               FIO DAGUA                  143        148   \n",
       "3             ANTA  RESERVATÓRIO SEM USINA                  128        129   \n",
       "4   APOLÔNIO SALES               FIO DAGUA                  173        173   \n",
       "\n",
       "        nom_usina  calculus  \n",
       "0     14 DE JULHO       383  \n",
       "1   ÁGUA VERMELHA        36  \n",
       "2         AIMORÉS       291  \n",
       "3            ANTA       257  \n",
       "4  APOLÔNIO SALES       346  "
      ]
     },
     "execution_count": 24,
     "metadata": {},
     "output_type": "execute_result"
    }
   ],
   "source": [
    "#We can create another column by summing numerics\n",
    "df['calculus'] = df['cod_resplanejamento'] + df['cod_posto']\n",
    "df"
   ]
  },
  {
   "cell_type": "code",
   "execution_count": 25,
   "metadata": {},
   "outputs": [
    {
     "data": {
      "application/vnd.microsoft.datawrangler.viewer.v0+json": {
       "columns": [
        {
         "name": "index",
         "rawType": "int64",
         "type": "integer"
        },
        {
         "name": "nom_reservatorio",
         "rawType": "object",
         "type": "string"
        },
        {
         "name": "tip_reservatorio",
         "rawType": "object",
         "type": "string"
        },
        {
         "name": "cod_resplanejamento",
         "rawType": "int64",
         "type": "integer"
        },
        {
         "name": "cod_posto",
         "rawType": "int64",
         "type": "integer"
        },
        {
         "name": "nom_usina",
         "rawType": "object",
         "type": "string"
        },
        {
         "name": "calculus",
         "rawType": "int64",
         "type": "integer"
        },
        {
         "name": "region",
         "rawType": "bool",
         "type": "boolean"
        }
       ],
       "conversionMethod": "pd.DataFrame",
       "ref": "0ddd9f66-fc98-4ce5-a470-d191368be868",
       "rows": [
        [
         "0",
         "14 DE JULHO",
         "FIO DAGUA",
         "284",
         "99",
         "14 DE JULHO",
         "383",
         "False"
        ],
        [
         "1",
         "ÁGUA VERMELHA",
         "RESERVATÓRIO COM USINA",
         "18",
         "18",
         "ÁGUA VERMELHA",
         "36",
         "False"
        ],
        [
         "2",
         "AIMORÉS",
         "FIO DAGUA",
         "143",
         "148",
         "AIMORÉS",
         "291",
         "True"
        ],
        [
         "3",
         "ANTA",
         "RESERVATÓRIO SEM USINA",
         "128",
         "129",
         "ANTA",
         "257",
         "True"
        ],
        [
         "4",
         "APOLÔNIO SALES",
         "FIO DAGUA",
         "173",
         "173",
         "APOLÔNIO SALES",
         "346",
         "True"
        ]
       ],
       "shape": {
        "columns": 7,
        "rows": 5
       }
      },
      "text/html": [
       "<div>\n",
       "<style scoped>\n",
       "    .dataframe tbody tr th:only-of-type {\n",
       "        vertical-align: middle;\n",
       "    }\n",
       "\n",
       "    .dataframe tbody tr th {\n",
       "        vertical-align: top;\n",
       "    }\n",
       "\n",
       "    .dataframe thead th {\n",
       "        text-align: right;\n",
       "    }\n",
       "</style>\n",
       "<table border=\"1\" class=\"dataframe\">\n",
       "  <thead>\n",
       "    <tr style=\"text-align: right;\">\n",
       "      <th></th>\n",
       "      <th>nom_reservatorio</th>\n",
       "      <th>tip_reservatorio</th>\n",
       "      <th>cod_resplanejamento</th>\n",
       "      <th>cod_posto</th>\n",
       "      <th>nom_usina</th>\n",
       "      <th>calculus</th>\n",
       "      <th>region</th>\n",
       "    </tr>\n",
       "  </thead>\n",
       "  <tbody>\n",
       "    <tr>\n",
       "      <th>0</th>\n",
       "      <td>14 DE JULHO</td>\n",
       "      <td>FIO DAGUA</td>\n",
       "      <td>284</td>\n",
       "      <td>99</td>\n",
       "      <td>14 DE JULHO</td>\n",
       "      <td>383</td>\n",
       "      <td>False</td>\n",
       "    </tr>\n",
       "    <tr>\n",
       "      <th>1</th>\n",
       "      <td>ÁGUA VERMELHA</td>\n",
       "      <td>RESERVATÓRIO COM USINA</td>\n",
       "      <td>18</td>\n",
       "      <td>18</td>\n",
       "      <td>ÁGUA VERMELHA</td>\n",
       "      <td>36</td>\n",
       "      <td>False</td>\n",
       "    </tr>\n",
       "    <tr>\n",
       "      <th>2</th>\n",
       "      <td>AIMORÉS</td>\n",
       "      <td>FIO DAGUA</td>\n",
       "      <td>143</td>\n",
       "      <td>148</td>\n",
       "      <td>AIMORÉS</td>\n",
       "      <td>291</td>\n",
       "      <td>True</td>\n",
       "    </tr>\n",
       "    <tr>\n",
       "      <th>3</th>\n",
       "      <td>ANTA</td>\n",
       "      <td>RESERVATÓRIO SEM USINA</td>\n",
       "      <td>128</td>\n",
       "      <td>129</td>\n",
       "      <td>ANTA</td>\n",
       "      <td>257</td>\n",
       "      <td>True</td>\n",
       "    </tr>\n",
       "    <tr>\n",
       "      <th>4</th>\n",
       "      <td>APOLÔNIO SALES</td>\n",
       "      <td>FIO DAGUA</td>\n",
       "      <td>173</td>\n",
       "      <td>173</td>\n",
       "      <td>APOLÔNIO SALES</td>\n",
       "      <td>346</td>\n",
       "      <td>True</td>\n",
       "    </tr>\n",
       "  </tbody>\n",
       "</table>\n",
       "</div>"
      ],
      "text/plain": [
       "  nom_reservatorio        tip_reservatorio  cod_resplanejamento  cod_posto  \\\n",
       "0      14 DE JULHO               FIO DAGUA                  284         99   \n",
       "1    ÁGUA VERMELHA  RESERVATÓRIO COM USINA                   18         18   \n",
       "2          AIMORÉS               FIO DAGUA                  143        148   \n",
       "3             ANTA  RESERVATÓRIO SEM USINA                  128        129   \n",
       "4   APOLÔNIO SALES               FIO DAGUA                  173        173   \n",
       "\n",
       "        nom_usina  calculus  region  \n",
       "0     14 DE JULHO       383   False  \n",
       "1   ÁGUA VERMELHA        36   False  \n",
       "2         AIMORÉS       291    True  \n",
       "3            ANTA       257    True  \n",
       "4  APOLÔNIO SALES       346    True  "
      ]
     },
     "execution_count": 25,
     "metadata": {},
     "output_type": "execute_result"
    }
   ],
   "source": [
    "#Do some filtering as well\n",
    "\n",
    "df['region'] = df['cod_posto'] > 100\n",
    "df"
   ]
  },
  {
   "cell_type": "code",
   "execution_count": 26,
   "metadata": {},
   "outputs": [],
   "source": [
    "# delete some undesired columns\n",
    "\n",
    "del df['region']"
   ]
  },
  {
   "cell_type": "code",
   "execution_count": 27,
   "metadata": {},
   "outputs": [
    {
     "data": {
      "application/vnd.microsoft.datawrangler.viewer.v0+json": {
       "columns": [
        {
         "name": "index",
         "rawType": "int64",
         "type": "integer"
        },
        {
         "name": "nom_reservatorio",
         "rawType": "object",
         "type": "string"
        },
        {
         "name": "tip_reservatorio",
         "rawType": "object",
         "type": "string"
        },
        {
         "name": "cod_resplanejamento",
         "rawType": "int64",
         "type": "integer"
        },
        {
         "name": "cod_posto",
         "rawType": "int64",
         "type": "integer"
        },
        {
         "name": "nom_usina",
         "rawType": "object",
         "type": "string"
        },
        {
         "name": "calculus",
         "rawType": "int64",
         "type": "integer"
        }
       ],
       "conversionMethod": "pd.DataFrame",
       "ref": "9eb70058-8ce3-4b30-977d-66c7861c5755",
       "rows": [
        [
         "0",
         "14 DE JULHO",
         "FIO DAGUA",
         "284",
         "99",
         "14 DE JULHO",
         "383"
        ],
        [
         "1",
         "ÁGUA VERMELHA",
         "RESERVATÓRIO COM USINA",
         "18",
         "18",
         "ÁGUA VERMELHA",
         "36"
        ],
        [
         "2",
         "AIMORÉS",
         "FIO DAGUA",
         "143",
         "148",
         "AIMORÉS",
         "291"
        ],
        [
         "3",
         "ANTA",
         "RESERVATÓRIO SEM USINA",
         "128",
         "129",
         "ANTA",
         "257"
        ],
        [
         "4",
         "APOLÔNIO SALES",
         "FIO DAGUA",
         "173",
         "173",
         "APOLÔNIO SALES",
         "346"
        ]
       ],
       "shape": {
        "columns": 6,
        "rows": 5
       }
      },
      "text/html": [
       "<div>\n",
       "<style scoped>\n",
       "    .dataframe tbody tr th:only-of-type {\n",
       "        vertical-align: middle;\n",
       "    }\n",
       "\n",
       "    .dataframe tbody tr th {\n",
       "        vertical-align: top;\n",
       "    }\n",
       "\n",
       "    .dataframe thead th {\n",
       "        text-align: right;\n",
       "    }\n",
       "</style>\n",
       "<table border=\"1\" class=\"dataframe\">\n",
       "  <thead>\n",
       "    <tr style=\"text-align: right;\">\n",
       "      <th></th>\n",
       "      <th>nom_reservatorio</th>\n",
       "      <th>tip_reservatorio</th>\n",
       "      <th>cod_resplanejamento</th>\n",
       "      <th>cod_posto</th>\n",
       "      <th>nom_usina</th>\n",
       "      <th>calculus</th>\n",
       "    </tr>\n",
       "  </thead>\n",
       "  <tbody>\n",
       "    <tr>\n",
       "      <th>0</th>\n",
       "      <td>14 DE JULHO</td>\n",
       "      <td>FIO DAGUA</td>\n",
       "      <td>284</td>\n",
       "      <td>99</td>\n",
       "      <td>14 DE JULHO</td>\n",
       "      <td>383</td>\n",
       "    </tr>\n",
       "    <tr>\n",
       "      <th>1</th>\n",
       "      <td>ÁGUA VERMELHA</td>\n",
       "      <td>RESERVATÓRIO COM USINA</td>\n",
       "      <td>18</td>\n",
       "      <td>18</td>\n",
       "      <td>ÁGUA VERMELHA</td>\n",
       "      <td>36</td>\n",
       "    </tr>\n",
       "    <tr>\n",
       "      <th>2</th>\n",
       "      <td>AIMORÉS</td>\n",
       "      <td>FIO DAGUA</td>\n",
       "      <td>143</td>\n",
       "      <td>148</td>\n",
       "      <td>AIMORÉS</td>\n",
       "      <td>291</td>\n",
       "    </tr>\n",
       "    <tr>\n",
       "      <th>3</th>\n",
       "      <td>ANTA</td>\n",
       "      <td>RESERVATÓRIO SEM USINA</td>\n",
       "      <td>128</td>\n",
       "      <td>129</td>\n",
       "      <td>ANTA</td>\n",
       "      <td>257</td>\n",
       "    </tr>\n",
       "    <tr>\n",
       "      <th>4</th>\n",
       "      <td>APOLÔNIO SALES</td>\n",
       "      <td>FIO DAGUA</td>\n",
       "      <td>173</td>\n",
       "      <td>173</td>\n",
       "      <td>APOLÔNIO SALES</td>\n",
       "      <td>346</td>\n",
       "    </tr>\n",
       "  </tbody>\n",
       "</table>\n",
       "</div>"
      ],
      "text/plain": [
       "  nom_reservatorio        tip_reservatorio  cod_resplanejamento  cod_posto  \\\n",
       "0      14 DE JULHO               FIO DAGUA                  284         99   \n",
       "1    ÁGUA VERMELHA  RESERVATÓRIO COM USINA                   18         18   \n",
       "2          AIMORÉS               FIO DAGUA                  143        148   \n",
       "3             ANTA  RESERVATÓRIO SEM USINA                  128        129   \n",
       "4   APOLÔNIO SALES               FIO DAGUA                  173        173   \n",
       "\n",
       "        nom_usina  calculus  \n",
       "0     14 DE JULHO       383  \n",
       "1   ÁGUA VERMELHA        36  \n",
       "2         AIMORÉS       291  \n",
       "3            ANTA       257  \n",
       "4  APOLÔNIO SALES       346  "
      ]
     },
     "execution_count": 27,
     "metadata": {},
     "output_type": "execute_result"
    }
   ],
   "source": [
    "df"
   ]
  },
  {
   "cell_type": "code",
   "execution_count": null,
   "metadata": {},
   "outputs": [],
   "source": []
  }
 ],
 "metadata": {
  "kernelspec": {
   "display_name": "spatial",
   "language": "python",
   "name": "python3"
  },
  "language_info": {
   "codemirror_mode": {
    "name": "ipython",
    "version": 3
   },
   "file_extension": ".py",
   "mimetype": "text/x-python",
   "name": "python",
   "nbconvert_exporter": "python",
   "pygments_lexer": "ipython3",
   "version": "3.12.9"
  }
 },
 "nbformat": 4,
 "nbformat_minor": 2
}
